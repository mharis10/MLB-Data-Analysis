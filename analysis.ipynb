{
  "nbformat": 4,
  "nbformat_minor": 0,
  "metadata": {
    "colab": {
      "provenance": []
    },
    "kernelspec": {
      "name": "python3",
      "display_name": "Python 3"
    },
    "language_info": {
      "name": "python"
    }
  },
  "cells": [
    {
      "cell_type": "markdown",
      "source": [
        "#Mapping Happiness and Development: 2022 Analysis"
      ],
      "metadata": {
        "id": "_hIR3MzRqi9f"
      }
    },
    {
      "cell_type": "markdown",
      "source": [
        "This project aims to delve into the intricate relationship between happiness and development by analyzing the World Happiness Report and Human Development Index datasets for the year 2022. By examining various factors such as GDP per capita, social support, life expectancy, education, freedom, and corruption perceptions, we seek to uncover patterns and correlations that shed light on the well-being and progress of nations. Through this analysis, we hope to gain insights into the multidimensional nature of happiness and its connection to human development"
      ],
      "metadata": {
        "id": "PhSNUCfJqlS7"
      }
    },
    {
      "cell_type": "markdown",
      "source": [
        "Sumamry of Contents:\n",
        "\n",
        "1.\tIntroduction\n",
        "3.\tData Inspection and Cleaning\n",
        "4.\tAnalysis and Answers to Questions\n",
        "5.\tConclusions and Discussion\n",
        "6.\tFuture Analysis\n",
        "7.\tReferences\n"
      ],
      "metadata": {
        "id": "Vp1Idi5IDDIi"
      }
    },
    {
      "cell_type": "markdown",
      "source": [
        "A 2022 analysis conducted delves into the intricate relationship between happiness and development using data from the Sustainable Development Solutions Network, a global initiative of the United Nations, and the United Nations Development Program. The World Happiness Report provides insights into the happiness levels of countries, while the Human Development Index offers a comprehensive measure of development based on various indicators. It was in response to the need for a measure that could better represent human achievements in several basic capabilities (what people can do and be) than income based indices of growth and development and could provide a credible alternative to them (Kelly, 1991, Anand and Sen, 1994)\n",
        "\n",
        " By examining these datasets,the aim of this project is to uncover meaningful patterns and correlations that shed light on the well-being and progress of nations.\n",
        "\n",
        "One of the reasons why this analysis is fascinating is the opportunity to explore the multidimensional aspects of happiness. By investigating factors such as GDP per capita, social support, healthy life expectancy, freedom, generosity, and perceptions of corruption, we can gain a comprehensive understanding of the elements that contribute to happiness. Additionally, analyzing the relationship between happiness and the Human Development Index allows us to assess the broader development context and investigate if countries with higher development levels tend to have higher happiness scores.\n",
        "\n",
        "The availability of data from reputable sources such as the United Nations Development Program and the Sustainable Development Solutions Network ensures the reliability and credibility of the analysis. This project aims to contribute to the ongoing discourse on happiness and development, providing valuable insights into the factors that shape thriving societies and the interplay between subjective well-being and objective development indicators.Introduction"
      ],
      "metadata": {
        "id": "a_6bZ7TrDP0O"
      }
    },
    {
      "cell_type": "markdown",
      "source": [
        "\n",
        "\n",
        "\n",
        "The following questions will be answered:\n",
        "\n",
        "1) In 2022, which countries were the most and the least happiest\n",
        "\n",
        "2) Is there a correlation between a country's Happiness Report Ladder Score and its Human Development Index (HDI)? Can countries with higher HDI scores be considered happier on average?\n",
        "\n",
        "3) How does a country's Gross Domestic Product (GDP) per capita relate to its Happiness Report Ladder Score? Is there a positive correlation indicating that higher GDP per capita leads to higher happiness levels?\n",
        "\n",
        "4) Are there any significant differences in Happiness Report Ladder Scores among countries based on their regional indicators? Which regions tend to have higher average happiness levels?\n",
        "\n",
        "5) Does social support (as measured in the Happiness Report dataset) have a positive impact on a country's Human Development Index? Is there a correlation between social support and overall development?\n",
        "\n",
        "6) How does a country's Logged GDP per capita relate to its Happiness Report Ladder Score? Is there a positive correlation indicating that higher GDP per capita leads to higher happiness levels?\n",
        "\n",
        "7) Is there a significant difference in Happiness Report Ladder Scores among countries based on their levels of Healthy Life Expectancy?"
      ],
      "metadata": {
        "id": "zoG30FStJNXp"
      }
    },
    {
      "cell_type": "markdown",
      "source": [
        "##Data Files\n",
        "\n",
        "The data files used for the analysis are\n",
        "\n",
        "1) Human Development Index, obtained from Kaggle (Bannerjee, 2022): It is a composite measure that gauges average achievements in vital dimensions of human development, including life expectancy, education, and standard of living. By calculating normalized indices for each dimension, the HDI provides a concise summary of a country's overall development. It captures the significance of factors such as longevity, knowledge, and well-being, offering valuable insights into the progress and well-being of nations.\n",
        "\n",
        "2) World Happiness Report, obtained from Kaggle (Ache, 2022): This report examines the current state of happiness worldwide and delves into the scientific understanding of happiness, elucidating the factors that contribute to individual and national variations in happiness. It provides insights into the complex dynamics and drivers of happiness, shedding light on the intricate interplay between personal well-being and broader societal factors."
      ],
      "metadata": {
        "id": "i6cOKAttToqc"
      }
    },
    {
      "cell_type": "code",
      "execution_count": null,
      "metadata": {
        "id": "kE-qLCfidnip"
      },
      "outputs": [],
      "source": [
        "import pandas as pd\n",
        "import numpy as np\n",
        "import matplotlib.pyplot as plt\n",
        "import seaborn as sns"
      ]
    },
    {
      "cell_type": "markdown",
      "source": [
        "World Happiness Report"
      ],
      "metadata": {
        "id": "bAB1RMLMYhYs"
      }
    },
    {
      "cell_type": "code",
      "source": [
        "whr = pd.read_csv('World Happiness Report.csv')"
      ],
      "metadata": {
        "id": "Lbx-rZkrk67Z"
      },
      "execution_count": null,
      "outputs": []
    },
    {
      "cell_type": "code",
      "source": [
        "whr.head()"
      ],
      "metadata": {
        "colab": {
          "base_uri": "https://localhost:8080/",
          "height": 443
        },
        "id": "EWEseNdTaFYI",
        "outputId": "20671b82-9400-4bbc-839e-9c6d07d96e34"
      },
      "execution_count": null,
      "outputs": [
        {
          "output_type": "execute_result",
          "data": {
            "text/plain": [
              "  Country name Regional indicator  Ladder score  \\\n",
              "0      Finland     Western Europe         7.842   \n",
              "1      Denmark     Western Europe         7.620   \n",
              "2  Switzerland     Western Europe         7.571   \n",
              "3      Iceland     Western Europe         7.554   \n",
              "4  Netherlands     Western Europe         7.464   \n",
              "\n",
              "   Standard error of ladder score  upperwhisker  lowerwhisker  \\\n",
              "0                           0.032         7.904         7.780   \n",
              "1                           0.035         7.687         7.552   \n",
              "2                           0.036         7.643         7.500   \n",
              "3                           0.059         7.670         7.438   \n",
              "4                           0.027         7.518         7.410   \n",
              "\n",
              "   Logged GDP per capita  Social support  Healthy life expectancy  \\\n",
              "0                 10.775           0.954                     72.0   \n",
              "1                 10.933           0.954                     72.7   \n",
              "2                 11.117           0.942                     74.4   \n",
              "3                 10.878           0.983                     73.0   \n",
              "4                 10.932           0.942                     72.4   \n",
              "\n",
              "   Freedom to make life choices  Generosity  Perceptions of corruption  \\\n",
              "0                         0.949      -0.098                      0.186   \n",
              "1                         0.946       0.030                      0.179   \n",
              "2                         0.919       0.025                      0.292   \n",
              "3                         0.955       0.160                      0.673   \n",
              "4                         0.913       0.175                      0.338   \n",
              "\n",
              "   Ladder score in Dystopia  Explained by: Log GDP per capita  \\\n",
              "0                      2.43                             1.446   \n",
              "1                      2.43                             1.502   \n",
              "2                      2.43                             1.566   \n",
              "3                      2.43                             1.482   \n",
              "4                      2.43                             1.501   \n",
              "\n",
              "   Explained by: Social support  Explained by: Healthy life expectancy  \\\n",
              "0                         1.106                                  0.741   \n",
              "1                         1.108                                  0.763   \n",
              "2                         1.079                                  0.816   \n",
              "3                         1.172                                  0.772   \n",
              "4                         1.079                                  0.753   \n",
              "\n",
              "   Explained by: Freedom to make life choices  Explained by: Generosity  \\\n",
              "0                                       0.691                     0.124   \n",
              "1                                       0.686                     0.208   \n",
              "2                                       0.653                     0.204   \n",
              "3                                       0.698                     0.293   \n",
              "4                                       0.647                     0.302   \n",
              "\n",
              "   Explained by: Perceptions of corruption  Dystopia + residual  \n",
              "0                                    0.481                3.253  \n",
              "1                                    0.485                2.868  \n",
              "2                                    0.413                2.839  \n",
              "3                                    0.170                2.967  \n",
              "4                                    0.384                2.798  "
            ],
            "text/html": [
              "\n",
              "\n",
              "  <div id=\"df-1943bc79-14d6-4ff6-9cfd-1306aa158e7d\">\n",
              "    <div class=\"colab-df-container\">\n",
              "      <div>\n",
              "<style scoped>\n",
              "    .dataframe tbody tr th:only-of-type {\n",
              "        vertical-align: middle;\n",
              "    }\n",
              "\n",
              "    .dataframe tbody tr th {\n",
              "        vertical-align: top;\n",
              "    }\n",
              "\n",
              "    .dataframe thead th {\n",
              "        text-align: right;\n",
              "    }\n",
              "</style>\n",
              "<table border=\"1\" class=\"dataframe\">\n",
              "  <thead>\n",
              "    <tr style=\"text-align: right;\">\n",
              "      <th></th>\n",
              "      <th>Country name</th>\n",
              "      <th>Regional indicator</th>\n",
              "      <th>Ladder score</th>\n",
              "      <th>Standard error of ladder score</th>\n",
              "      <th>upperwhisker</th>\n",
              "      <th>lowerwhisker</th>\n",
              "      <th>Logged GDP per capita</th>\n",
              "      <th>Social support</th>\n",
              "      <th>Healthy life expectancy</th>\n",
              "      <th>Freedom to make life choices</th>\n",
              "      <th>Generosity</th>\n",
              "      <th>Perceptions of corruption</th>\n",
              "      <th>Ladder score in Dystopia</th>\n",
              "      <th>Explained by: Log GDP per capita</th>\n",
              "      <th>Explained by: Social support</th>\n",
              "      <th>Explained by: Healthy life expectancy</th>\n",
              "      <th>Explained by: Freedom to make life choices</th>\n",
              "      <th>Explained by: Generosity</th>\n",
              "      <th>Explained by: Perceptions of corruption</th>\n",
              "      <th>Dystopia + residual</th>\n",
              "    </tr>\n",
              "  </thead>\n",
              "  <tbody>\n",
              "    <tr>\n",
              "      <th>0</th>\n",
              "      <td>Finland</td>\n",
              "      <td>Western Europe</td>\n",
              "      <td>7.842</td>\n",
              "      <td>0.032</td>\n",
              "      <td>7.904</td>\n",
              "      <td>7.780</td>\n",
              "      <td>10.775</td>\n",
              "      <td>0.954</td>\n",
              "      <td>72.0</td>\n",
              "      <td>0.949</td>\n",
              "      <td>-0.098</td>\n",
              "      <td>0.186</td>\n",
              "      <td>2.43</td>\n",
              "      <td>1.446</td>\n",
              "      <td>1.106</td>\n",
              "      <td>0.741</td>\n",
              "      <td>0.691</td>\n",
              "      <td>0.124</td>\n",
              "      <td>0.481</td>\n",
              "      <td>3.253</td>\n",
              "    </tr>\n",
              "    <tr>\n",
              "      <th>1</th>\n",
              "      <td>Denmark</td>\n",
              "      <td>Western Europe</td>\n",
              "      <td>7.620</td>\n",
              "      <td>0.035</td>\n",
              "      <td>7.687</td>\n",
              "      <td>7.552</td>\n",
              "      <td>10.933</td>\n",
              "      <td>0.954</td>\n",
              "      <td>72.7</td>\n",
              "      <td>0.946</td>\n",
              "      <td>0.030</td>\n",
              "      <td>0.179</td>\n",
              "      <td>2.43</td>\n",
              "      <td>1.502</td>\n",
              "      <td>1.108</td>\n",
              "      <td>0.763</td>\n",
              "      <td>0.686</td>\n",
              "      <td>0.208</td>\n",
              "      <td>0.485</td>\n",
              "      <td>2.868</td>\n",
              "    </tr>\n",
              "    <tr>\n",
              "      <th>2</th>\n",
              "      <td>Switzerland</td>\n",
              "      <td>Western Europe</td>\n",
              "      <td>7.571</td>\n",
              "      <td>0.036</td>\n",
              "      <td>7.643</td>\n",
              "      <td>7.500</td>\n",
              "      <td>11.117</td>\n",
              "      <td>0.942</td>\n",
              "      <td>74.4</td>\n",
              "      <td>0.919</td>\n",
              "      <td>0.025</td>\n",
              "      <td>0.292</td>\n",
              "      <td>2.43</td>\n",
              "      <td>1.566</td>\n",
              "      <td>1.079</td>\n",
              "      <td>0.816</td>\n",
              "      <td>0.653</td>\n",
              "      <td>0.204</td>\n",
              "      <td>0.413</td>\n",
              "      <td>2.839</td>\n",
              "    </tr>\n",
              "    <tr>\n",
              "      <th>3</th>\n",
              "      <td>Iceland</td>\n",
              "      <td>Western Europe</td>\n",
              "      <td>7.554</td>\n",
              "      <td>0.059</td>\n",
              "      <td>7.670</td>\n",
              "      <td>7.438</td>\n",
              "      <td>10.878</td>\n",
              "      <td>0.983</td>\n",
              "      <td>73.0</td>\n",
              "      <td>0.955</td>\n",
              "      <td>0.160</td>\n",
              "      <td>0.673</td>\n",
              "      <td>2.43</td>\n",
              "      <td>1.482</td>\n",
              "      <td>1.172</td>\n",
              "      <td>0.772</td>\n",
              "      <td>0.698</td>\n",
              "      <td>0.293</td>\n",
              "      <td>0.170</td>\n",
              "      <td>2.967</td>\n",
              "    </tr>\n",
              "    <tr>\n",
              "      <th>4</th>\n",
              "      <td>Netherlands</td>\n",
              "      <td>Western Europe</td>\n",
              "      <td>7.464</td>\n",
              "      <td>0.027</td>\n",
              "      <td>7.518</td>\n",
              "      <td>7.410</td>\n",
              "      <td>10.932</td>\n",
              "      <td>0.942</td>\n",
              "      <td>72.4</td>\n",
              "      <td>0.913</td>\n",
              "      <td>0.175</td>\n",
              "      <td>0.338</td>\n",
              "      <td>2.43</td>\n",
              "      <td>1.501</td>\n",
              "      <td>1.079</td>\n",
              "      <td>0.753</td>\n",
              "      <td>0.647</td>\n",
              "      <td>0.302</td>\n",
              "      <td>0.384</td>\n",
              "      <td>2.798</td>\n",
              "    </tr>\n",
              "  </tbody>\n",
              "</table>\n",
              "</div>\n",
              "      <button class=\"colab-df-convert\" onclick=\"convertToInteractive('df-1943bc79-14d6-4ff6-9cfd-1306aa158e7d')\"\n",
              "              title=\"Convert this dataframe to an interactive table.\"\n",
              "              style=\"display:none;\">\n",
              "\n",
              "  <svg xmlns=\"http://www.w3.org/2000/svg\" height=\"24px\"viewBox=\"0 0 24 24\"\n",
              "       width=\"24px\">\n",
              "    <path d=\"M0 0h24v24H0V0z\" fill=\"none\"/>\n",
              "    <path d=\"M18.56 5.44l.94 2.06.94-2.06 2.06-.94-2.06-.94-.94-2.06-.94 2.06-2.06.94zm-11 1L8.5 8.5l.94-2.06 2.06-.94-2.06-.94L8.5 2.5l-.94 2.06-2.06.94zm10 10l.94 2.06.94-2.06 2.06-.94-2.06-.94-.94-2.06-.94 2.06-2.06.94z\"/><path d=\"M17.41 7.96l-1.37-1.37c-.4-.4-.92-.59-1.43-.59-.52 0-1.04.2-1.43.59L10.3 9.45l-7.72 7.72c-.78.78-.78 2.05 0 2.83L4 21.41c.39.39.9.59 1.41.59.51 0 1.02-.2 1.41-.59l7.78-7.78 2.81-2.81c.8-.78.8-2.07 0-2.86zM5.41 20L4 18.59l7.72-7.72 1.47 1.35L5.41 20z\"/>\n",
              "  </svg>\n",
              "      </button>\n",
              "\n",
              "\n",
              "\n",
              "    <div id=\"df-703e6da8-49b8-4ece-9ade-aaa5a1af4adc\">\n",
              "      <button class=\"colab-df-quickchart\" onclick=\"quickchart('df-703e6da8-49b8-4ece-9ade-aaa5a1af4adc')\"\n",
              "              title=\"Suggest charts.\"\n",
              "              style=\"display:none;\">\n",
              "\n",
              "<svg xmlns=\"http://www.w3.org/2000/svg\" height=\"24px\"viewBox=\"0 0 24 24\"\n",
              "     width=\"24px\">\n",
              "    <g>\n",
              "        <path d=\"M19 3H5c-1.1 0-2 .9-2 2v14c0 1.1.9 2 2 2h14c1.1 0 2-.9 2-2V5c0-1.1-.9-2-2-2zM9 17H7v-7h2v7zm4 0h-2V7h2v10zm4 0h-2v-4h2v4z\"/>\n",
              "    </g>\n",
              "</svg>\n",
              "      </button>\n",
              "    </div>\n",
              "\n",
              "<style>\n",
              "  .colab-df-quickchart {\n",
              "    background-color: #E8F0FE;\n",
              "    border: none;\n",
              "    border-radius: 50%;\n",
              "    cursor: pointer;\n",
              "    display: none;\n",
              "    fill: #1967D2;\n",
              "    height: 32px;\n",
              "    padding: 0 0 0 0;\n",
              "    width: 32px;\n",
              "  }\n",
              "\n",
              "  .colab-df-quickchart:hover {\n",
              "    background-color: #E2EBFA;\n",
              "    box-shadow: 0px 1px 2px rgba(60, 64, 67, 0.3), 0px 1px 3px 1px rgba(60, 64, 67, 0.15);\n",
              "    fill: #174EA6;\n",
              "  }\n",
              "\n",
              "  [theme=dark] .colab-df-quickchart {\n",
              "    background-color: #3B4455;\n",
              "    fill: #D2E3FC;\n",
              "  }\n",
              "\n",
              "  [theme=dark] .colab-df-quickchart:hover {\n",
              "    background-color: #434B5C;\n",
              "    box-shadow: 0px 1px 3px 1px rgba(0, 0, 0, 0.15);\n",
              "    filter: drop-shadow(0px 1px 2px rgba(0, 0, 0, 0.3));\n",
              "    fill: #FFFFFF;\n",
              "  }\n",
              "</style>\n",
              "\n",
              "    <script>\n",
              "      async function quickchart(key) {\n",
              "        const containerElement = document.querySelector('#' + key);\n",
              "        const charts = await google.colab.kernel.invokeFunction(\n",
              "            'suggestCharts', [key], {});\n",
              "      }\n",
              "    </script>\n",
              "\n",
              "      <script>\n",
              "\n",
              "function displayQuickchartButton(domScope) {\n",
              "  let quickchartButtonEl =\n",
              "    domScope.querySelector('#df-703e6da8-49b8-4ece-9ade-aaa5a1af4adc button.colab-df-quickchart');\n",
              "  quickchartButtonEl.style.display =\n",
              "    google.colab.kernel.accessAllowed ? 'block' : 'none';\n",
              "}\n",
              "\n",
              "        displayQuickchartButton(document);\n",
              "      </script>\n",
              "      <style>\n",
              "    .colab-df-container {\n",
              "      display:flex;\n",
              "      flex-wrap:wrap;\n",
              "      gap: 12px;\n",
              "    }\n",
              "\n",
              "    .colab-df-convert {\n",
              "      background-color: #E8F0FE;\n",
              "      border: none;\n",
              "      border-radius: 50%;\n",
              "      cursor: pointer;\n",
              "      display: none;\n",
              "      fill: #1967D2;\n",
              "      height: 32px;\n",
              "      padding: 0 0 0 0;\n",
              "      width: 32px;\n",
              "    }\n",
              "\n",
              "    .colab-df-convert:hover {\n",
              "      background-color: #E2EBFA;\n",
              "      box-shadow: 0px 1px 2px rgba(60, 64, 67, 0.3), 0px 1px 3px 1px rgba(60, 64, 67, 0.15);\n",
              "      fill: #174EA6;\n",
              "    }\n",
              "\n",
              "    [theme=dark] .colab-df-convert {\n",
              "      background-color: #3B4455;\n",
              "      fill: #D2E3FC;\n",
              "    }\n",
              "\n",
              "    [theme=dark] .colab-df-convert:hover {\n",
              "      background-color: #434B5C;\n",
              "      box-shadow: 0px 1px 3px 1px rgba(0, 0, 0, 0.15);\n",
              "      filter: drop-shadow(0px 1px 2px rgba(0, 0, 0, 0.3));\n",
              "      fill: #FFFFFF;\n",
              "    }\n",
              "  </style>\n",
              "\n",
              "      <script>\n",
              "        const buttonEl =\n",
              "          document.querySelector('#df-1943bc79-14d6-4ff6-9cfd-1306aa158e7d button.colab-df-convert');\n",
              "        buttonEl.style.display =\n",
              "          google.colab.kernel.accessAllowed ? 'block' : 'none';\n",
              "\n",
              "        async function convertToInteractive(key) {\n",
              "          const element = document.querySelector('#df-1943bc79-14d6-4ff6-9cfd-1306aa158e7d');\n",
              "          const dataTable =\n",
              "            await google.colab.kernel.invokeFunction('convertToInteractive',\n",
              "                                                     [key], {});\n",
              "          if (!dataTable) return;\n",
              "\n",
              "          const docLinkHtml = 'Like what you see? Visit the ' +\n",
              "            '<a target=\"_blank\" href=https://colab.research.google.com/notebooks/data_table.ipynb>data table notebook</a>'\n",
              "            + ' to learn more about interactive tables.';\n",
              "          element.innerHTML = '';\n",
              "          dataTable['output_type'] = 'display_data';\n",
              "          await google.colab.output.renderOutput(dataTable, element);\n",
              "          const docLink = document.createElement('div');\n",
              "          docLink.innerHTML = docLinkHtml;\n",
              "          element.appendChild(docLink);\n",
              "        }\n",
              "      </script>\n",
              "    </div>\n",
              "  </div>\n"
            ]
          },
          "metadata": {},
          "execution_count": 4
        }
      ]
    },
    {
      "cell_type": "code",
      "source": [
        "whr.columns"
      ],
      "metadata": {
        "colab": {
          "base_uri": "https://localhost:8080/"
        },
        "id": "g6mRJZUkk_9u",
        "outputId": "4ec2aca0-f79d-4a90-a8e5-1b1c06a4abe0"
      },
      "execution_count": null,
      "outputs": [
        {
          "output_type": "execute_result",
          "data": {
            "text/plain": [
              "Index(['Country name', 'Regional indicator', 'Ladder score',\n",
              "       'Standard error of ladder score', 'upperwhisker', 'lowerwhisker',\n",
              "       'Logged GDP per capita', 'Social support', 'Healthy life expectancy',\n",
              "       'Freedom to make life choices', 'Generosity',\n",
              "       'Perceptions of corruption', 'Ladder score in Dystopia',\n",
              "       'Explained by: Log GDP per capita', 'Explained by: Social support',\n",
              "       'Explained by: Healthy life expectancy',\n",
              "       'Explained by: Freedom to make life choices',\n",
              "       'Explained by: Generosity', 'Explained by: Perceptions of corruption',\n",
              "       'Dystopia + residual'],\n",
              "      dtype='object')"
            ]
          },
          "metadata": {},
          "execution_count": 5
        }
      ]
    },
    {
      "cell_type": "code",
      "source": [
        "whr.shape"
      ],
      "metadata": {
        "colab": {
          "base_uri": "https://localhost:8080/"
        },
        "id": "IOndWKXXbeE8",
        "outputId": "4b3e8d23-7729-4648-8c06-d8726726052d"
      },
      "execution_count": null,
      "outputs": [
        {
          "output_type": "execute_result",
          "data": {
            "text/plain": [
              "(149, 20)"
            ]
          },
          "metadata": {},
          "execution_count": 6
        }
      ]
    },
    {
      "cell_type": "markdown",
      "source": [
        "Human Development Index"
      ],
      "metadata": {
        "id": "P0i28AYObim7"
      }
    },
    {
      "cell_type": "code",
      "source": [
        "hdi = pd.read_csv('HDI_dataset.csv')"
      ],
      "metadata": {
        "id": "zp2CE46Tmmgg"
      },
      "execution_count": null,
      "outputs": []
    },
    {
      "cell_type": "code",
      "source": [
        "hdi.head()"
      ],
      "metadata": {
        "colab": {
          "base_uri": "https://localhost:8080/",
          "height": 302
        },
        "id": "VG9wjq23bleQ",
        "outputId": "63131ad1-d9f1-4d3a-aec1-309ebf597d75"
      },
      "execution_count": null,
      "outputs": [
        {
          "output_type": "execute_result",
          "data": {
            "text/plain": [
              "   HDI rank                 Country  Human Development Index (HDI)  \\\n",
              "0         1             Switzerland                          0.962   \n",
              "1         2                  Norway                          0.961   \n",
              "2         3                 Iceland                          0.959   \n",
              "3         4  Hong Kong, China (SAR)                          0.952   \n",
              "4         5               Australia                          0.951   \n",
              "\n",
              "   Life expectancy at birth  Expected years of schooling  \\\n",
              "0                      84.0                         16.5   \n",
              "1                      83.2                         18.2   \n",
              "2                      82.7                         19.2   \n",
              "3                      85.5                         17.3   \n",
              "4                      84.5                         21.1   \n",
              "\n",
              "   Mean years of schooling Gross national income (GNI) per capita  \\\n",
              "0                     13.9                                 66,933   \n",
              "1                     13.0                                 64,660   \n",
              "2                     13.8                                 55,782   \n",
              "3                     12.2                                 62,607   \n",
              "4                     12.7                                 49,238   \n",
              "\n",
              "   GNI per capita rank minus HDI rank  HDI rank.1  \n",
              "0                                   5           3  \n",
              "1                                   6           1  \n",
              "2                                  11           2  \n",
              "3                                   6           4  \n",
              "4                                  18           5  "
            ],
            "text/html": [
              "\n",
              "\n",
              "  <div id=\"df-3448bd0a-a6f8-47bc-9113-8ac50be36c3d\">\n",
              "    <div class=\"colab-df-container\">\n",
              "      <div>\n",
              "<style scoped>\n",
              "    .dataframe tbody tr th:only-of-type {\n",
              "        vertical-align: middle;\n",
              "    }\n",
              "\n",
              "    .dataframe tbody tr th {\n",
              "        vertical-align: top;\n",
              "    }\n",
              "\n",
              "    .dataframe thead th {\n",
              "        text-align: right;\n",
              "    }\n",
              "</style>\n",
              "<table border=\"1\" class=\"dataframe\">\n",
              "  <thead>\n",
              "    <tr style=\"text-align: right;\">\n",
              "      <th></th>\n",
              "      <th>HDI rank</th>\n",
              "      <th>Country</th>\n",
              "      <th>Human Development Index (HDI)</th>\n",
              "      <th>Life expectancy at birth</th>\n",
              "      <th>Expected years of schooling</th>\n",
              "      <th>Mean years of schooling</th>\n",
              "      <th>Gross national income (GNI) per capita</th>\n",
              "      <th>GNI per capita rank minus HDI rank</th>\n",
              "      <th>HDI rank.1</th>\n",
              "    </tr>\n",
              "  </thead>\n",
              "  <tbody>\n",
              "    <tr>\n",
              "      <th>0</th>\n",
              "      <td>1</td>\n",
              "      <td>Switzerland</td>\n",
              "      <td>0.962</td>\n",
              "      <td>84.0</td>\n",
              "      <td>16.5</td>\n",
              "      <td>13.9</td>\n",
              "      <td>66,933</td>\n",
              "      <td>5</td>\n",
              "      <td>3</td>\n",
              "    </tr>\n",
              "    <tr>\n",
              "      <th>1</th>\n",
              "      <td>2</td>\n",
              "      <td>Norway</td>\n",
              "      <td>0.961</td>\n",
              "      <td>83.2</td>\n",
              "      <td>18.2</td>\n",
              "      <td>13.0</td>\n",
              "      <td>64,660</td>\n",
              "      <td>6</td>\n",
              "      <td>1</td>\n",
              "    </tr>\n",
              "    <tr>\n",
              "      <th>2</th>\n",
              "      <td>3</td>\n",
              "      <td>Iceland</td>\n",
              "      <td>0.959</td>\n",
              "      <td>82.7</td>\n",
              "      <td>19.2</td>\n",
              "      <td>13.8</td>\n",
              "      <td>55,782</td>\n",
              "      <td>11</td>\n",
              "      <td>2</td>\n",
              "    </tr>\n",
              "    <tr>\n",
              "      <th>3</th>\n",
              "      <td>4</td>\n",
              "      <td>Hong Kong, China (SAR)</td>\n",
              "      <td>0.952</td>\n",
              "      <td>85.5</td>\n",
              "      <td>17.3</td>\n",
              "      <td>12.2</td>\n",
              "      <td>62,607</td>\n",
              "      <td>6</td>\n",
              "      <td>4</td>\n",
              "    </tr>\n",
              "    <tr>\n",
              "      <th>4</th>\n",
              "      <td>5</td>\n",
              "      <td>Australia</td>\n",
              "      <td>0.951</td>\n",
              "      <td>84.5</td>\n",
              "      <td>21.1</td>\n",
              "      <td>12.7</td>\n",
              "      <td>49,238</td>\n",
              "      <td>18</td>\n",
              "      <td>5</td>\n",
              "    </tr>\n",
              "  </tbody>\n",
              "</table>\n",
              "</div>\n",
              "      <button class=\"colab-df-convert\" onclick=\"convertToInteractive('df-3448bd0a-a6f8-47bc-9113-8ac50be36c3d')\"\n",
              "              title=\"Convert this dataframe to an interactive table.\"\n",
              "              style=\"display:none;\">\n",
              "\n",
              "  <svg xmlns=\"http://www.w3.org/2000/svg\" height=\"24px\"viewBox=\"0 0 24 24\"\n",
              "       width=\"24px\">\n",
              "    <path d=\"M0 0h24v24H0V0z\" fill=\"none\"/>\n",
              "    <path d=\"M18.56 5.44l.94 2.06.94-2.06 2.06-.94-2.06-.94-.94-2.06-.94 2.06-2.06.94zm-11 1L8.5 8.5l.94-2.06 2.06-.94-2.06-.94L8.5 2.5l-.94 2.06-2.06.94zm10 10l.94 2.06.94-2.06 2.06-.94-2.06-.94-.94-2.06-.94 2.06-2.06.94z\"/><path d=\"M17.41 7.96l-1.37-1.37c-.4-.4-.92-.59-1.43-.59-.52 0-1.04.2-1.43.59L10.3 9.45l-7.72 7.72c-.78.78-.78 2.05 0 2.83L4 21.41c.39.39.9.59 1.41.59.51 0 1.02-.2 1.41-.59l7.78-7.78 2.81-2.81c.8-.78.8-2.07 0-2.86zM5.41 20L4 18.59l7.72-7.72 1.47 1.35L5.41 20z\"/>\n",
              "  </svg>\n",
              "      </button>\n",
              "\n",
              "\n",
              "\n",
              "    <div id=\"df-304fa9be-23c5-4746-b7dc-26e293fba772\">\n",
              "      <button class=\"colab-df-quickchart\" onclick=\"quickchart('df-304fa9be-23c5-4746-b7dc-26e293fba772')\"\n",
              "              title=\"Suggest charts.\"\n",
              "              style=\"display:none;\">\n",
              "\n",
              "<svg xmlns=\"http://www.w3.org/2000/svg\" height=\"24px\"viewBox=\"0 0 24 24\"\n",
              "     width=\"24px\">\n",
              "    <g>\n",
              "        <path d=\"M19 3H5c-1.1 0-2 .9-2 2v14c0 1.1.9 2 2 2h14c1.1 0 2-.9 2-2V5c0-1.1-.9-2-2-2zM9 17H7v-7h2v7zm4 0h-2V7h2v10zm4 0h-2v-4h2v4z\"/>\n",
              "    </g>\n",
              "</svg>\n",
              "      </button>\n",
              "    </div>\n",
              "\n",
              "<style>\n",
              "  .colab-df-quickchart {\n",
              "    background-color: #E8F0FE;\n",
              "    border: none;\n",
              "    border-radius: 50%;\n",
              "    cursor: pointer;\n",
              "    display: none;\n",
              "    fill: #1967D2;\n",
              "    height: 32px;\n",
              "    padding: 0 0 0 0;\n",
              "    width: 32px;\n",
              "  }\n",
              "\n",
              "  .colab-df-quickchart:hover {\n",
              "    background-color: #E2EBFA;\n",
              "    box-shadow: 0px 1px 2px rgba(60, 64, 67, 0.3), 0px 1px 3px 1px rgba(60, 64, 67, 0.15);\n",
              "    fill: #174EA6;\n",
              "  }\n",
              "\n",
              "  [theme=dark] .colab-df-quickchart {\n",
              "    background-color: #3B4455;\n",
              "    fill: #D2E3FC;\n",
              "  }\n",
              "\n",
              "  [theme=dark] .colab-df-quickchart:hover {\n",
              "    background-color: #434B5C;\n",
              "    box-shadow: 0px 1px 3px 1px rgba(0, 0, 0, 0.15);\n",
              "    filter: drop-shadow(0px 1px 2px rgba(0, 0, 0, 0.3));\n",
              "    fill: #FFFFFF;\n",
              "  }\n",
              "</style>\n",
              "\n",
              "    <script>\n",
              "      async function quickchart(key) {\n",
              "        const containerElement = document.querySelector('#' + key);\n",
              "        const charts = await google.colab.kernel.invokeFunction(\n",
              "            'suggestCharts', [key], {});\n",
              "      }\n",
              "    </script>\n",
              "\n",
              "      <script>\n",
              "\n",
              "function displayQuickchartButton(domScope) {\n",
              "  let quickchartButtonEl =\n",
              "    domScope.querySelector('#df-304fa9be-23c5-4746-b7dc-26e293fba772 button.colab-df-quickchart');\n",
              "  quickchartButtonEl.style.display =\n",
              "    google.colab.kernel.accessAllowed ? 'block' : 'none';\n",
              "}\n",
              "\n",
              "        displayQuickchartButton(document);\n",
              "      </script>\n",
              "      <style>\n",
              "    .colab-df-container {\n",
              "      display:flex;\n",
              "      flex-wrap:wrap;\n",
              "      gap: 12px;\n",
              "    }\n",
              "\n",
              "    .colab-df-convert {\n",
              "      background-color: #E8F0FE;\n",
              "      border: none;\n",
              "      border-radius: 50%;\n",
              "      cursor: pointer;\n",
              "      display: none;\n",
              "      fill: #1967D2;\n",
              "      height: 32px;\n",
              "      padding: 0 0 0 0;\n",
              "      width: 32px;\n",
              "    }\n",
              "\n",
              "    .colab-df-convert:hover {\n",
              "      background-color: #E2EBFA;\n",
              "      box-shadow: 0px 1px 2px rgba(60, 64, 67, 0.3), 0px 1px 3px 1px rgba(60, 64, 67, 0.15);\n",
              "      fill: #174EA6;\n",
              "    }\n",
              "\n",
              "    [theme=dark] .colab-df-convert {\n",
              "      background-color: #3B4455;\n",
              "      fill: #D2E3FC;\n",
              "    }\n",
              "\n",
              "    [theme=dark] .colab-df-convert:hover {\n",
              "      background-color: #434B5C;\n",
              "      box-shadow: 0px 1px 3px 1px rgba(0, 0, 0, 0.15);\n",
              "      filter: drop-shadow(0px 1px 2px rgba(0, 0, 0, 0.3));\n",
              "      fill: #FFFFFF;\n",
              "    }\n",
              "  </style>\n",
              "\n",
              "      <script>\n",
              "        const buttonEl =\n",
              "          document.querySelector('#df-3448bd0a-a6f8-47bc-9113-8ac50be36c3d button.colab-df-convert');\n",
              "        buttonEl.style.display =\n",
              "          google.colab.kernel.accessAllowed ? 'block' : 'none';\n",
              "\n",
              "        async function convertToInteractive(key) {\n",
              "          const element = document.querySelector('#df-3448bd0a-a6f8-47bc-9113-8ac50be36c3d');\n",
              "          const dataTable =\n",
              "            await google.colab.kernel.invokeFunction('convertToInteractive',\n",
              "                                                     [key], {});\n",
              "          if (!dataTable) return;\n",
              "\n",
              "          const docLinkHtml = 'Like what you see? Visit the ' +\n",
              "            '<a target=\"_blank\" href=https://colab.research.google.com/notebooks/data_table.ipynb>data table notebook</a>'\n",
              "            + ' to learn more about interactive tables.';\n",
              "          element.innerHTML = '';\n",
              "          dataTable['output_type'] = 'display_data';\n",
              "          await google.colab.output.renderOutput(dataTable, element);\n",
              "          const docLink = document.createElement('div');\n",
              "          docLink.innerHTML = docLinkHtml;\n",
              "          element.appendChild(docLink);\n",
              "        }\n",
              "      </script>\n",
              "    </div>\n",
              "  </div>\n"
            ]
          },
          "metadata": {},
          "execution_count": 8
        }
      ]
    },
    {
      "cell_type": "code",
      "source": [
        "hdi.columns"
      ],
      "metadata": {
        "colab": {
          "base_uri": "https://localhost:8080/"
        },
        "id": "dNBSr3M4mqAp",
        "outputId": "367e0fba-74b4-4855-e912-01097317701b"
      },
      "execution_count": null,
      "outputs": [
        {
          "output_type": "execute_result",
          "data": {
            "text/plain": [
              "Index(['HDI rank', 'Country', 'Human Development Index (HDI)',\n",
              "       'Life expectancy at birth', 'Expected years of schooling',\n",
              "       'Mean years of schooling', 'Gross national income (GNI) per capita',\n",
              "       'GNI per capita rank minus HDI rank', 'HDI rank.1'],\n",
              "      dtype='object')"
            ]
          },
          "metadata": {},
          "execution_count": 9
        }
      ]
    },
    {
      "cell_type": "code",
      "source": [
        "hdi.shape"
      ],
      "metadata": {
        "colab": {
          "base_uri": "https://localhost:8080/"
        },
        "id": "DCnuZjn7bnVH",
        "outputId": "d5e2b0a8-e075-4fcb-8425-8c829dffdcd1"
      },
      "execution_count": null,
      "outputs": [
        {
          "output_type": "execute_result",
          "data": {
            "text/plain": [
              "(191, 9)"
            ]
          },
          "metadata": {},
          "execution_count": 10
        }
      ]
    },
    {
      "cell_type": "markdown",
      "source": [
        "##Data Inspection and Cleaning"
      ],
      "metadata": {
        "id": "WNMJtqbdd80F"
      }
    },
    {
      "cell_type": "code",
      "source": [
        "#identify missing values in each column of the datasets\n",
        "print('Missing values for World Happiness Report:')\n",
        "print(whr.isnull().sum())\n",
        "\n",
        "print('\\nMissing values for Human Development Index:')\n",
        "print(hdi.isnull().sum())"
      ],
      "metadata": {
        "colab": {
          "base_uri": "https://localhost:8080/"
        },
        "id": "tdcWdzEweBRh",
        "outputId": "47bc6047-8cb5-4f05-dbf7-86cbe48f66dd"
      },
      "execution_count": null,
      "outputs": [
        {
          "output_type": "stream",
          "name": "stdout",
          "text": [
            "Missing values for World Happiness Report:\n",
            "Country name                                  0\n",
            "Regional indicator                            0\n",
            "Ladder score                                  0\n",
            "Standard error of ladder score                0\n",
            "upperwhisker                                  0\n",
            "lowerwhisker                                  0\n",
            "Logged GDP per capita                         0\n",
            "Social support                                0\n",
            "Healthy life expectancy                       0\n",
            "Freedom to make life choices                  0\n",
            "Generosity                                    0\n",
            "Perceptions of corruption                     0\n",
            "Ladder score in Dystopia                      0\n",
            "Explained by: Log GDP per capita              0\n",
            "Explained by: Social support                  0\n",
            "Explained by: Healthy life expectancy         0\n",
            "Explained by: Freedom to make life choices    0\n",
            "Explained by: Generosity                      0\n",
            "Explained by: Perceptions of corruption       0\n",
            "Dystopia + residual                           0\n",
            "dtype: int64\n",
            "\n",
            "Missing values for Human Development Index:\n",
            "HDI rank                                  0\n",
            "Country                                   0\n",
            "Human Development Index (HDI)             0\n",
            "Life expectancy at birth                  0\n",
            "Expected years of schooling               0\n",
            "Mean years of schooling                   0\n",
            "Gross national income (GNI) per capita    0\n",
            "GNI per capita rank minus HDI rank        0\n",
            "HDI rank.1                                0\n",
            "dtype: int64\n"
          ]
        }
      ]
    },
    {
      "cell_type": "markdown",
      "source": [
        "Both the datasets don't have any null vlaues in any of the columns present."
      ],
      "metadata": {
        "id": "fa3LlsF3f2GJ"
      }
    },
    {
      "cell_type": "code",
      "source": [
        "#Checking for duplicates\n",
        "print('Duplicate values for World Happiness Report:')\n",
        "print(whr.duplicated().sum())\n",
        "\n",
        "print('Duplicate values for Human Development Index:')\n",
        "print(hdi.duplicated().sum())"
      ],
      "metadata": {
        "colab": {
          "base_uri": "https://localhost:8080/"
        },
        "id": "FMJgbkkhgHZI",
        "outputId": "b474131b-e514-4c09-ce52-cdbc803b1a85"
      },
      "execution_count": null,
      "outputs": [
        {
          "output_type": "stream",
          "name": "stdout",
          "text": [
            "Duplicate values for World Happiness Report:\n",
            "0\n",
            "Duplicate values for Human Development Index:\n",
            "0\n"
          ]
        }
      ]
    },
    {
      "cell_type": "markdown",
      "source": [
        "No duplicate values in either dataset detected"
      ],
      "metadata": {
        "id": "3HeMCZVthT0q"
      }
    },
    {
      "cell_type": "code",
      "source": [
        "#Checking for datatypes\n",
        "print('Data types for World Happiness Report:')\n",
        "print(whr.dtypes)\n",
        "print('\\nData types for Human Development Index:')\n",
        "print(hdi.dtypes)"
      ],
      "metadata": {
        "colab": {
          "base_uri": "https://localhost:8080/"
        },
        "id": "_iW9lehshW5j",
        "outputId": "147a4d0e-8273-4d3f-ac75-93bdc87f74f2"
      },
      "execution_count": null,
      "outputs": [
        {
          "output_type": "stream",
          "name": "stdout",
          "text": [
            "Data types for World Happiness Report:\n",
            "Country name                                   object\n",
            "Regional indicator                             object\n",
            "Ladder score                                  float64\n",
            "Standard error of ladder score                float64\n",
            "upperwhisker                                  float64\n",
            "lowerwhisker                                  float64\n",
            "Logged GDP per capita                         float64\n",
            "Social support                                float64\n",
            "Healthy life expectancy                       float64\n",
            "Freedom to make life choices                  float64\n",
            "Generosity                                    float64\n",
            "Perceptions of corruption                     float64\n",
            "Ladder score in Dystopia                      float64\n",
            "Explained by: Log GDP per capita              float64\n",
            "Explained by: Social support                  float64\n",
            "Explained by: Healthy life expectancy         float64\n",
            "Explained by: Freedom to make life choices    float64\n",
            "Explained by: Generosity                      float64\n",
            "Explained by: Perceptions of corruption       float64\n",
            "Dystopia + residual                           float64\n",
            "dtype: object\n",
            "\n",
            "Data types for Human Development Index:\n",
            "HDI rank                                    int64\n",
            "Country                                    object\n",
            "Human Development Index (HDI)             float64\n",
            "Life expectancy at birth                  float64\n",
            "Expected years of schooling               float64\n",
            "Mean years of schooling                   float64\n",
            "Gross national income (GNI) per capita     object\n",
            "GNI per capita rank minus HDI rank          int64\n",
            "HDI rank.1                                  int64\n",
            "dtype: object\n"
          ]
        }
      ]
    },
    {
      "cell_type": "markdown",
      "source": [
        "The datasets seems to be perfect in terms of data types, missing values and duplicate records.\n",
        "\n",
        "However, we do need to do some cleaning. It is observed that the Happiness dataset contains records of a total 149 countries whereas the HDI dataset consists of 191 countries. Since we need to join these datasets for our analysis based on the key 'Country', we are going to drop the countries that are not present in Happiness dataset."
      ],
      "metadata": {
        "id": "MKRHz4Mmibzl"
      }
    },
    {
      "cell_type": "code",
      "source": [
        "#filter the countries based on Happiness dataset\n",
        "hdi = hdi[hdi['Country'].isin(whr['Country name'])]"
      ],
      "metadata": {
        "id": "ZaOqjxhJjAFB"
      },
      "execution_count": null,
      "outputs": []
    },
    {
      "cell_type": "code",
      "source": [
        "#filtering the Happiness dataset to include common countries only\n",
        "whr = whr[whr['Country name'].isin(hdi['Country'])]"
      ],
      "metadata": {
        "id": "kMCwuIoSjkWJ"
      },
      "execution_count": null,
      "outputs": []
    },
    {
      "cell_type": "code",
      "source": [
        "#check the new no. of countries\n",
        "print('No. of countries in the Happiness dataset are:', whr.shape[0])\n",
        "print('No. of countries in the HDI dataset are:', hdi.shape[0])"
      ],
      "metadata": {
        "colab": {
          "base_uri": "https://localhost:8080/"
        },
        "id": "t4RxkV-uj5f2",
        "outputId": "50d51937-26e0-4a63-f629-d8d632ca5056"
      },
      "execution_count": null,
      "outputs": [
        {
          "output_type": "stream",
          "name": "stdout",
          "text": [
            "No. of countries in the Happiness dataset are: 130\n",
            "No. of countries in the HDI dataset are: 130\n"
          ]
        }
      ]
    },
    {
      "cell_type": "markdown",
      "source": [
        "After filtering out the 'uncommon' countries among the two datasets, we are left with a total of 130 countries data which is still reasonable to conduct our analysis.  \n",
        "\n",
        "Before we merge our datasets, we need to ensure that the Country column name is the same for both. This is done below\n",
        "\n"
      ],
      "metadata": {
        "id": "plyMMG3rkIFH"
      }
    },
    {
      "cell_type": "code",
      "source": [
        "whr.rename(columns={'Country name': 'Country'}, inplace=True)"
      ],
      "metadata": {
        "id": "DxoH6eWalcBb",
        "colab": {
          "base_uri": "https://localhost:8080/"
        },
        "outputId": "1c166b76-7ef8-4b7b-eab7-e4dbd9f70c22"
      },
      "execution_count": null,
      "outputs": [
        {
          "output_type": "stream",
          "name": "stderr",
          "text": [
            "<ipython-input-17-ab9d6d94fc4c>:1: SettingWithCopyWarning: \n",
            "A value is trying to be set on a copy of a slice from a DataFrame\n",
            "\n",
            "See the caveats in the documentation: https://pandas.pydata.org/pandas-docs/stable/user_guide/indexing.html#returning-a-view-versus-a-copy\n",
            "  whr.rename(columns={'Country name': 'Country'}, inplace=True)\n"
          ]
        }
      ]
    },
    {
      "cell_type": "markdown",
      "source": [
        "Next, we will merge the two datasets together."
      ],
      "metadata": {
        "id": "KbhxQJLIleY5"
      }
    },
    {
      "cell_type": "code",
      "source": [
        "#merging the data\n",
        "data = pd.merge(hdi, whr, on='Country')"
      ],
      "metadata": {
        "id": "k2e5GNCdk94P"
      },
      "execution_count": null,
      "outputs": []
    },
    {
      "cell_type": "markdown",
      "source": [
        "Observing our combined data below"
      ],
      "metadata": {
        "id": "KU1kNSrHlgaa"
      }
    },
    {
      "cell_type": "code",
      "source": [
        "data.head(5)"
      ],
      "metadata": {
        "colab": {
          "base_uri": "https://localhost:8080/",
          "height": 507
        },
        "id": "-L3LnA8QliuO",
        "outputId": "2e11f9b4-4577-4139-b1f0-dadce54eac74"
      },
      "execution_count": null,
      "outputs": [
        {
          "output_type": "execute_result",
          "data": {
            "text/plain": [
              "   HDI rank      Country  Human Development Index (HDI)  \\\n",
              "0         1  Switzerland                          0.962   \n",
              "1         2       Norway                          0.961   \n",
              "2         3      Iceland                          0.959   \n",
              "3         5    Australia                          0.951   \n",
              "4         6      Denmark                          0.948   \n",
              "\n",
              "   Life expectancy at birth  Expected years of schooling  \\\n",
              "0                      84.0                         16.5   \n",
              "1                      83.2                         18.2   \n",
              "2                      82.7                         19.2   \n",
              "3                      84.5                         21.1   \n",
              "4                      81.4                         18.7   \n",
              "\n",
              "   Mean years of schooling Gross national income (GNI) per capita  \\\n",
              "0                     13.9                                 66,933   \n",
              "1                     13.0                                 64,660   \n",
              "2                     13.8                                 55,782   \n",
              "3                     12.7                                 49,238   \n",
              "4                     13.0                                 60,365   \n",
              "\n",
              "   GNI per capita rank minus HDI rank  HDI rank.1     Regional indicator  ...  \\\n",
              "0                                   5           3         Western Europe  ...   \n",
              "1                                   6           1         Western Europe  ...   \n",
              "2                                  11           2         Western Europe  ...   \n",
              "3                                  18           5  North America and ANZ  ...   \n",
              "4                                   6           5         Western Europe  ...   \n",
              "\n",
              "   Generosity  Perceptions of corruption  Ladder score in Dystopia  \\\n",
              "0       0.025                      0.292                      2.43   \n",
              "1       0.093                      0.270                      2.43   \n",
              "2       0.160                      0.673                      2.43   \n",
              "3       0.159                      0.442                      2.43   \n",
              "4       0.030                      0.179                      2.43   \n",
              "\n",
              "   Explained by: Log GDP per capita  Explained by: Social support  \\\n",
              "0                             1.566                         1.079   \n",
              "1                             1.543                         1.108   \n",
              "2                             1.482                         1.172   \n",
              "3                             1.453                         1.076   \n",
              "4                             1.502                         1.108   \n",
              "\n",
              "   Explained by: Healthy life expectancy  \\\n",
              "0                                  0.816   \n",
              "1                                  0.782   \n",
              "2                                  0.772   \n",
              "3                                  0.801   \n",
              "4                                  0.763   \n",
              "\n",
              "   Explained by: Freedom to make life choices  Explained by: Generosity  \\\n",
              "0                                       0.653                     0.204   \n",
              "1                                       0.703                     0.249   \n",
              "2                                       0.698                     0.293   \n",
              "3                                       0.647                     0.291   \n",
              "4                                       0.686                     0.208   \n",
              "\n",
              "   Explained by: Perceptions of corruption  Dystopia + residual  \n",
              "0                                    0.413                2.839  \n",
              "1                                    0.427                2.580  \n",
              "2                                    0.170                2.967  \n",
              "3                                    0.317                2.598  \n",
              "4                                    0.485                2.868  \n",
              "\n",
              "[5 rows x 28 columns]"
            ],
            "text/html": [
              "\n",
              "\n",
              "  <div id=\"df-485b2e29-e8bc-4d45-abdb-5f01eb6466be\">\n",
              "    <div class=\"colab-df-container\">\n",
              "      <div>\n",
              "<style scoped>\n",
              "    .dataframe tbody tr th:only-of-type {\n",
              "        vertical-align: middle;\n",
              "    }\n",
              "\n",
              "    .dataframe tbody tr th {\n",
              "        vertical-align: top;\n",
              "    }\n",
              "\n",
              "    .dataframe thead th {\n",
              "        text-align: right;\n",
              "    }\n",
              "</style>\n",
              "<table border=\"1\" class=\"dataframe\">\n",
              "  <thead>\n",
              "    <tr style=\"text-align: right;\">\n",
              "      <th></th>\n",
              "      <th>HDI rank</th>\n",
              "      <th>Country</th>\n",
              "      <th>Human Development Index (HDI)</th>\n",
              "      <th>Life expectancy at birth</th>\n",
              "      <th>Expected years of schooling</th>\n",
              "      <th>Mean years of schooling</th>\n",
              "      <th>Gross national income (GNI) per capita</th>\n",
              "      <th>GNI per capita rank minus HDI rank</th>\n",
              "      <th>HDI rank.1</th>\n",
              "      <th>Regional indicator</th>\n",
              "      <th>...</th>\n",
              "      <th>Generosity</th>\n",
              "      <th>Perceptions of corruption</th>\n",
              "      <th>Ladder score in Dystopia</th>\n",
              "      <th>Explained by: Log GDP per capita</th>\n",
              "      <th>Explained by: Social support</th>\n",
              "      <th>Explained by: Healthy life expectancy</th>\n",
              "      <th>Explained by: Freedom to make life choices</th>\n",
              "      <th>Explained by: Generosity</th>\n",
              "      <th>Explained by: Perceptions of corruption</th>\n",
              "      <th>Dystopia + residual</th>\n",
              "    </tr>\n",
              "  </thead>\n",
              "  <tbody>\n",
              "    <tr>\n",
              "      <th>0</th>\n",
              "      <td>1</td>\n",
              "      <td>Switzerland</td>\n",
              "      <td>0.962</td>\n",
              "      <td>84.0</td>\n",
              "      <td>16.5</td>\n",
              "      <td>13.9</td>\n",
              "      <td>66,933</td>\n",
              "      <td>5</td>\n",
              "      <td>3</td>\n",
              "      <td>Western Europe</td>\n",
              "      <td>...</td>\n",
              "      <td>0.025</td>\n",
              "      <td>0.292</td>\n",
              "      <td>2.43</td>\n",
              "      <td>1.566</td>\n",
              "      <td>1.079</td>\n",
              "      <td>0.816</td>\n",
              "      <td>0.653</td>\n",
              "      <td>0.204</td>\n",
              "      <td>0.413</td>\n",
              "      <td>2.839</td>\n",
              "    </tr>\n",
              "    <tr>\n",
              "      <th>1</th>\n",
              "      <td>2</td>\n",
              "      <td>Norway</td>\n",
              "      <td>0.961</td>\n",
              "      <td>83.2</td>\n",
              "      <td>18.2</td>\n",
              "      <td>13.0</td>\n",
              "      <td>64,660</td>\n",
              "      <td>6</td>\n",
              "      <td>1</td>\n",
              "      <td>Western Europe</td>\n",
              "      <td>...</td>\n",
              "      <td>0.093</td>\n",
              "      <td>0.270</td>\n",
              "      <td>2.43</td>\n",
              "      <td>1.543</td>\n",
              "      <td>1.108</td>\n",
              "      <td>0.782</td>\n",
              "      <td>0.703</td>\n",
              "      <td>0.249</td>\n",
              "      <td>0.427</td>\n",
              "      <td>2.580</td>\n",
              "    </tr>\n",
              "    <tr>\n",
              "      <th>2</th>\n",
              "      <td>3</td>\n",
              "      <td>Iceland</td>\n",
              "      <td>0.959</td>\n",
              "      <td>82.7</td>\n",
              "      <td>19.2</td>\n",
              "      <td>13.8</td>\n",
              "      <td>55,782</td>\n",
              "      <td>11</td>\n",
              "      <td>2</td>\n",
              "      <td>Western Europe</td>\n",
              "      <td>...</td>\n",
              "      <td>0.160</td>\n",
              "      <td>0.673</td>\n",
              "      <td>2.43</td>\n",
              "      <td>1.482</td>\n",
              "      <td>1.172</td>\n",
              "      <td>0.772</td>\n",
              "      <td>0.698</td>\n",
              "      <td>0.293</td>\n",
              "      <td>0.170</td>\n",
              "      <td>2.967</td>\n",
              "    </tr>\n",
              "    <tr>\n",
              "      <th>3</th>\n",
              "      <td>5</td>\n",
              "      <td>Australia</td>\n",
              "      <td>0.951</td>\n",
              "      <td>84.5</td>\n",
              "      <td>21.1</td>\n",
              "      <td>12.7</td>\n",
              "      <td>49,238</td>\n",
              "      <td>18</td>\n",
              "      <td>5</td>\n",
              "      <td>North America and ANZ</td>\n",
              "      <td>...</td>\n",
              "      <td>0.159</td>\n",
              "      <td>0.442</td>\n",
              "      <td>2.43</td>\n",
              "      <td>1.453</td>\n",
              "      <td>1.076</td>\n",
              "      <td>0.801</td>\n",
              "      <td>0.647</td>\n",
              "      <td>0.291</td>\n",
              "      <td>0.317</td>\n",
              "      <td>2.598</td>\n",
              "    </tr>\n",
              "    <tr>\n",
              "      <th>4</th>\n",
              "      <td>6</td>\n",
              "      <td>Denmark</td>\n",
              "      <td>0.948</td>\n",
              "      <td>81.4</td>\n",
              "      <td>18.7</td>\n",
              "      <td>13.0</td>\n",
              "      <td>60,365</td>\n",
              "      <td>6</td>\n",
              "      <td>5</td>\n",
              "      <td>Western Europe</td>\n",
              "      <td>...</td>\n",
              "      <td>0.030</td>\n",
              "      <td>0.179</td>\n",
              "      <td>2.43</td>\n",
              "      <td>1.502</td>\n",
              "      <td>1.108</td>\n",
              "      <td>0.763</td>\n",
              "      <td>0.686</td>\n",
              "      <td>0.208</td>\n",
              "      <td>0.485</td>\n",
              "      <td>2.868</td>\n",
              "    </tr>\n",
              "  </tbody>\n",
              "</table>\n",
              "<p>5 rows × 28 columns</p>\n",
              "</div>\n",
              "      <button class=\"colab-df-convert\" onclick=\"convertToInteractive('df-485b2e29-e8bc-4d45-abdb-5f01eb6466be')\"\n",
              "              title=\"Convert this dataframe to an interactive table.\"\n",
              "              style=\"display:none;\">\n",
              "\n",
              "  <svg xmlns=\"http://www.w3.org/2000/svg\" height=\"24px\"viewBox=\"0 0 24 24\"\n",
              "       width=\"24px\">\n",
              "    <path d=\"M0 0h24v24H0V0z\" fill=\"none\"/>\n",
              "    <path d=\"M18.56 5.44l.94 2.06.94-2.06 2.06-.94-2.06-.94-.94-2.06-.94 2.06-2.06.94zm-11 1L8.5 8.5l.94-2.06 2.06-.94-2.06-.94L8.5 2.5l-.94 2.06-2.06.94zm10 10l.94 2.06.94-2.06 2.06-.94-2.06-.94-.94-2.06-.94 2.06-2.06.94z\"/><path d=\"M17.41 7.96l-1.37-1.37c-.4-.4-.92-.59-1.43-.59-.52 0-1.04.2-1.43.59L10.3 9.45l-7.72 7.72c-.78.78-.78 2.05 0 2.83L4 21.41c.39.39.9.59 1.41.59.51 0 1.02-.2 1.41-.59l7.78-7.78 2.81-2.81c.8-.78.8-2.07 0-2.86zM5.41 20L4 18.59l7.72-7.72 1.47 1.35L5.41 20z\"/>\n",
              "  </svg>\n",
              "      </button>\n",
              "\n",
              "\n",
              "\n",
              "    <div id=\"df-8e90c6a3-c295-4e3a-8013-fd07bdc869d7\">\n",
              "      <button class=\"colab-df-quickchart\" onclick=\"quickchart('df-8e90c6a3-c295-4e3a-8013-fd07bdc869d7')\"\n",
              "              title=\"Suggest charts.\"\n",
              "              style=\"display:none;\">\n",
              "\n",
              "<svg xmlns=\"http://www.w3.org/2000/svg\" height=\"24px\"viewBox=\"0 0 24 24\"\n",
              "     width=\"24px\">\n",
              "    <g>\n",
              "        <path d=\"M19 3H5c-1.1 0-2 .9-2 2v14c0 1.1.9 2 2 2h14c1.1 0 2-.9 2-2V5c0-1.1-.9-2-2-2zM9 17H7v-7h2v7zm4 0h-2V7h2v10zm4 0h-2v-4h2v4z\"/>\n",
              "    </g>\n",
              "</svg>\n",
              "      </button>\n",
              "    </div>\n",
              "\n",
              "<style>\n",
              "  .colab-df-quickchart {\n",
              "    background-color: #E8F0FE;\n",
              "    border: none;\n",
              "    border-radius: 50%;\n",
              "    cursor: pointer;\n",
              "    display: none;\n",
              "    fill: #1967D2;\n",
              "    height: 32px;\n",
              "    padding: 0 0 0 0;\n",
              "    width: 32px;\n",
              "  }\n",
              "\n",
              "  .colab-df-quickchart:hover {\n",
              "    background-color: #E2EBFA;\n",
              "    box-shadow: 0px 1px 2px rgba(60, 64, 67, 0.3), 0px 1px 3px 1px rgba(60, 64, 67, 0.15);\n",
              "    fill: #174EA6;\n",
              "  }\n",
              "\n",
              "  [theme=dark] .colab-df-quickchart {\n",
              "    background-color: #3B4455;\n",
              "    fill: #D2E3FC;\n",
              "  }\n",
              "\n",
              "  [theme=dark] .colab-df-quickchart:hover {\n",
              "    background-color: #434B5C;\n",
              "    box-shadow: 0px 1px 3px 1px rgba(0, 0, 0, 0.15);\n",
              "    filter: drop-shadow(0px 1px 2px rgba(0, 0, 0, 0.3));\n",
              "    fill: #FFFFFF;\n",
              "  }\n",
              "</style>\n",
              "\n",
              "    <script>\n",
              "      async function quickchart(key) {\n",
              "        const containerElement = document.querySelector('#' + key);\n",
              "        const charts = await google.colab.kernel.invokeFunction(\n",
              "            'suggestCharts', [key], {});\n",
              "      }\n",
              "    </script>\n",
              "\n",
              "      <script>\n",
              "\n",
              "function displayQuickchartButton(domScope) {\n",
              "  let quickchartButtonEl =\n",
              "    domScope.querySelector('#df-8e90c6a3-c295-4e3a-8013-fd07bdc869d7 button.colab-df-quickchart');\n",
              "  quickchartButtonEl.style.display =\n",
              "    google.colab.kernel.accessAllowed ? 'block' : 'none';\n",
              "}\n",
              "\n",
              "        displayQuickchartButton(document);\n",
              "      </script>\n",
              "      <style>\n",
              "    .colab-df-container {\n",
              "      display:flex;\n",
              "      flex-wrap:wrap;\n",
              "      gap: 12px;\n",
              "    }\n",
              "\n",
              "    .colab-df-convert {\n",
              "      background-color: #E8F0FE;\n",
              "      border: none;\n",
              "      border-radius: 50%;\n",
              "      cursor: pointer;\n",
              "      display: none;\n",
              "      fill: #1967D2;\n",
              "      height: 32px;\n",
              "      padding: 0 0 0 0;\n",
              "      width: 32px;\n",
              "    }\n",
              "\n",
              "    .colab-df-convert:hover {\n",
              "      background-color: #E2EBFA;\n",
              "      box-shadow: 0px 1px 2px rgba(60, 64, 67, 0.3), 0px 1px 3px 1px rgba(60, 64, 67, 0.15);\n",
              "      fill: #174EA6;\n",
              "    }\n",
              "\n",
              "    [theme=dark] .colab-df-convert {\n",
              "      background-color: #3B4455;\n",
              "      fill: #D2E3FC;\n",
              "    }\n",
              "\n",
              "    [theme=dark] .colab-df-convert:hover {\n",
              "      background-color: #434B5C;\n",
              "      box-shadow: 0px 1px 3px 1px rgba(0, 0, 0, 0.15);\n",
              "      filter: drop-shadow(0px 1px 2px rgba(0, 0, 0, 0.3));\n",
              "      fill: #FFFFFF;\n",
              "    }\n",
              "  </style>\n",
              "\n",
              "      <script>\n",
              "        const buttonEl =\n",
              "          document.querySelector('#df-485b2e29-e8bc-4d45-abdb-5f01eb6466be button.colab-df-convert');\n",
              "        buttonEl.style.display =\n",
              "          google.colab.kernel.accessAllowed ? 'block' : 'none';\n",
              "\n",
              "        async function convertToInteractive(key) {\n",
              "          const element = document.querySelector('#df-485b2e29-e8bc-4d45-abdb-5f01eb6466be');\n",
              "          const dataTable =\n",
              "            await google.colab.kernel.invokeFunction('convertToInteractive',\n",
              "                                                     [key], {});\n",
              "          if (!dataTable) return;\n",
              "\n",
              "          const docLinkHtml = 'Like what you see? Visit the ' +\n",
              "            '<a target=\"_blank\" href=https://colab.research.google.com/notebooks/data_table.ipynb>data table notebook</a>'\n",
              "            + ' to learn more about interactive tables.';\n",
              "          element.innerHTML = '';\n",
              "          dataTable['output_type'] = 'display_data';\n",
              "          await google.colab.output.renderOutput(dataTable, element);\n",
              "          const docLink = document.createElement('div');\n",
              "          docLink.innerHTML = docLinkHtml;\n",
              "          element.appendChild(docLink);\n",
              "        }\n",
              "      </script>\n",
              "    </div>\n",
              "  </div>\n"
            ]
          },
          "metadata": {},
          "execution_count": 19
        }
      ]
    },
    {
      "cell_type": "code",
      "source": [
        "data.columns"
      ],
      "metadata": {
        "colab": {
          "base_uri": "https://localhost:8080/"
        },
        "id": "3yzbL3M3llPJ",
        "outputId": "14b2fee5-9425-46f3-95e5-d1a2735940ee"
      },
      "execution_count": null,
      "outputs": [
        {
          "output_type": "execute_result",
          "data": {
            "text/plain": [
              "Index(['HDI rank', 'Country', 'Human Development Index (HDI)',\n",
              "       'Life expectancy at birth', 'Expected years of schooling',\n",
              "       'Mean years of schooling', 'Gross national income (GNI) per capita',\n",
              "       'GNI per capita rank minus HDI rank', 'HDI rank.1',\n",
              "       'Regional indicator', 'Ladder score', 'Standard error of ladder score',\n",
              "       'upperwhisker', 'lowerwhisker', 'Logged GDP per capita',\n",
              "       'Social support', 'Healthy life expectancy',\n",
              "       'Freedom to make life choices', 'Generosity',\n",
              "       'Perceptions of corruption', 'Ladder score in Dystopia',\n",
              "       'Explained by: Log GDP per capita', 'Explained by: Social support',\n",
              "       'Explained by: Healthy life expectancy',\n",
              "       'Explained by: Freedom to make life choices',\n",
              "       'Explained by: Generosity', 'Explained by: Perceptions of corruption',\n",
              "       'Dystopia + residual'],\n",
              "      dtype='object')"
            ]
          },
          "metadata": {},
          "execution_count": 20
        }
      ]
    },
    {
      "cell_type": "code",
      "source": [
        "data.shape"
      ],
      "metadata": {
        "colab": {
          "base_uri": "https://localhost:8080/"
        },
        "id": "AmnIBCmxlm2V",
        "outputId": "abafac0b-3a5f-40b5-8705-3bb033928ccc"
      },
      "execution_count": null,
      "outputs": [
        {
          "output_type": "execute_result",
          "data": {
            "text/plain": [
              "(130, 28)"
            ]
          },
          "metadata": {},
          "execution_count": 21
        }
      ]
    },
    {
      "cell_type": "markdown",
      "source": [
        "We will remove the columns that are not required. Based on the research questions in the first section, the only columns that we need for our analysis are:\n",
        "\n",
        "'Country'\n",
        "\n",
        "'Human Development Index (HDI)'\n",
        "\n",
        "'Ladder score'\n",
        "\n",
        "'Logged GDP per capita'\n",
        "\n",
        "'Regional indicator'\n",
        "\n",
        "'Social support'\n",
        "\n",
        "'Healthy life expectancy'\n",
        "\n",
        "'Freedom to make life choices'\n",
        "\n",
        "'Perceptions of corruption'"
      ],
      "metadata": {
        "id": "AjgaiS1MmUp1"
      }
    },
    {
      "cell_type": "code",
      "source": [
        "selected_columns = ['Country', 'Human Development Index (HDI)', 'Ladder score', 'Logged GDP per capita',\n",
        "                    'Regional indicator', 'Social support', 'Healthy life expectancy',\n",
        "                    'Freedom to make life choices', 'Perceptions of corruption']\n",
        "\n",
        "data = data[selected_columns]"
      ],
      "metadata": {
        "id": "XbO3Fp9cn7c4"
      },
      "execution_count": null,
      "outputs": []
    },
    {
      "cell_type": "markdown",
      "source": [
        "Next, the names of some columns are replaced for feasibility and ease."
      ],
      "metadata": {
        "id": "UnPanG3EoTAl"
      }
    },
    {
      "cell_type": "code",
      "source": [
        "data.rename(columns={\n",
        "    'Human Development Index (HDI)': 'HDI',\n",
        "    'Ladder score': 'Happiness Score',\n",
        "    'Logged GDP per capita': 'GDP per capita',\n",
        "    'Regional indicator': 'Region',\n",
        "    'Freedom to make life choices': 'Freedom',\n",
        "    'Perceptions of corruption': 'Corruption Perception'\n",
        "}, inplace=True)"
      ],
      "metadata": {
        "id": "i17dnqVEoQJ-",
        "outputId": "589e6e3b-fd71-4008-f319-62c8b5c0d54e",
        "colab": {
          "base_uri": "https://localhost:8080/"
        }
      },
      "execution_count": null,
      "outputs": [
        {
          "output_type": "stream",
          "name": "stderr",
          "text": [
            "<ipython-input-23-749b9975a15f>:1: SettingWithCopyWarning: \n",
            "A value is trying to be set on a copy of a slice from a DataFrame\n",
            "\n",
            "See the caveats in the documentation: https://pandas.pydata.org/pandas-docs/stable/user_guide/indexing.html#returning-a-view-versus-a-copy\n",
            "  data.rename(columns={\n"
          ]
        }
      ]
    },
    {
      "cell_type": "markdown",
      "source": [
        "In the following, we inspect the data further, looking for ranges, quartiles, averages and other measures."
      ],
      "metadata": {
        "id": "eGwla_F4pefk"
      }
    },
    {
      "cell_type": "code",
      "source": [
        "data.describe()"
      ],
      "metadata": {
        "colab": {
          "base_uri": "https://localhost:8080/",
          "height": 300
        },
        "id": "qvujmXXGqLOX",
        "outputId": "aa6c81c5-d9b6-4815-8e32-f9b4da2f9567"
      },
      "execution_count": null,
      "outputs": [
        {
          "output_type": "execute_result",
          "data": {
            "text/plain": [
              "              HDI  Happiness Score  GDP per capita  Social support  \\\n",
              "count  130.000000       130.000000      130.000000      130.000000   \n",
              "mean     0.734046         5.558131        9.421746        0.816592   \n",
              "std      0.157728         1.108838        1.188196        0.118793   \n",
              "min      0.394000         2.523000        6.635000        0.463000   \n",
              "25%      0.605250         4.838500        8.534250        0.750000   \n",
              "50%      0.753000         5.617000        9.581000        0.839500   \n",
              "75%      0.872750         6.315000       10.411250        0.912250   \n",
              "max      0.962000         7.842000       11.647000        0.983000   \n",
              "\n",
              "       Healthy life expectancy     Freedom  Corruption Perception  \n",
              "count               130.000000  130.000000             130.000000  \n",
              "mean                 65.032062    0.797077               0.723923  \n",
              "std                   6.723326    0.113173               0.185942  \n",
              "min                  48.478000    0.382000               0.082000  \n",
              "25%                  59.842000    0.731000               0.664750  \n",
              "50%                  66.800500    0.810500               0.784000  \n",
              "75%                  69.637250    0.883500               0.847750  \n",
              "max                  76.953000    0.970000               0.939000  "
            ],
            "text/html": [
              "\n",
              "\n",
              "  <div id=\"df-dfbdc688-4c66-47f5-bdf9-cd13d092837b\">\n",
              "    <div class=\"colab-df-container\">\n",
              "      <div>\n",
              "<style scoped>\n",
              "    .dataframe tbody tr th:only-of-type {\n",
              "        vertical-align: middle;\n",
              "    }\n",
              "\n",
              "    .dataframe tbody tr th {\n",
              "        vertical-align: top;\n",
              "    }\n",
              "\n",
              "    .dataframe thead th {\n",
              "        text-align: right;\n",
              "    }\n",
              "</style>\n",
              "<table border=\"1\" class=\"dataframe\">\n",
              "  <thead>\n",
              "    <tr style=\"text-align: right;\">\n",
              "      <th></th>\n",
              "      <th>HDI</th>\n",
              "      <th>Happiness Score</th>\n",
              "      <th>GDP per capita</th>\n",
              "      <th>Social support</th>\n",
              "      <th>Healthy life expectancy</th>\n",
              "      <th>Freedom</th>\n",
              "      <th>Corruption Perception</th>\n",
              "    </tr>\n",
              "  </thead>\n",
              "  <tbody>\n",
              "    <tr>\n",
              "      <th>count</th>\n",
              "      <td>130.000000</td>\n",
              "      <td>130.000000</td>\n",
              "      <td>130.000000</td>\n",
              "      <td>130.000000</td>\n",
              "      <td>130.000000</td>\n",
              "      <td>130.000000</td>\n",
              "      <td>130.000000</td>\n",
              "    </tr>\n",
              "    <tr>\n",
              "      <th>mean</th>\n",
              "      <td>0.734046</td>\n",
              "      <td>5.558131</td>\n",
              "      <td>9.421746</td>\n",
              "      <td>0.816592</td>\n",
              "      <td>65.032062</td>\n",
              "      <td>0.797077</td>\n",
              "      <td>0.723923</td>\n",
              "    </tr>\n",
              "    <tr>\n",
              "      <th>std</th>\n",
              "      <td>0.157728</td>\n",
              "      <td>1.108838</td>\n",
              "      <td>1.188196</td>\n",
              "      <td>0.118793</td>\n",
              "      <td>6.723326</td>\n",
              "      <td>0.113173</td>\n",
              "      <td>0.185942</td>\n",
              "    </tr>\n",
              "    <tr>\n",
              "      <th>min</th>\n",
              "      <td>0.394000</td>\n",
              "      <td>2.523000</td>\n",
              "      <td>6.635000</td>\n",
              "      <td>0.463000</td>\n",
              "      <td>48.478000</td>\n",
              "      <td>0.382000</td>\n",
              "      <td>0.082000</td>\n",
              "    </tr>\n",
              "    <tr>\n",
              "      <th>25%</th>\n",
              "      <td>0.605250</td>\n",
              "      <td>4.838500</td>\n",
              "      <td>8.534250</td>\n",
              "      <td>0.750000</td>\n",
              "      <td>59.842000</td>\n",
              "      <td>0.731000</td>\n",
              "      <td>0.664750</td>\n",
              "    </tr>\n",
              "    <tr>\n",
              "      <th>50%</th>\n",
              "      <td>0.753000</td>\n",
              "      <td>5.617000</td>\n",
              "      <td>9.581000</td>\n",
              "      <td>0.839500</td>\n",
              "      <td>66.800500</td>\n",
              "      <td>0.810500</td>\n",
              "      <td>0.784000</td>\n",
              "    </tr>\n",
              "    <tr>\n",
              "      <th>75%</th>\n",
              "      <td>0.872750</td>\n",
              "      <td>6.315000</td>\n",
              "      <td>10.411250</td>\n",
              "      <td>0.912250</td>\n",
              "      <td>69.637250</td>\n",
              "      <td>0.883500</td>\n",
              "      <td>0.847750</td>\n",
              "    </tr>\n",
              "    <tr>\n",
              "      <th>max</th>\n",
              "      <td>0.962000</td>\n",
              "      <td>7.842000</td>\n",
              "      <td>11.647000</td>\n",
              "      <td>0.983000</td>\n",
              "      <td>76.953000</td>\n",
              "      <td>0.970000</td>\n",
              "      <td>0.939000</td>\n",
              "    </tr>\n",
              "  </tbody>\n",
              "</table>\n",
              "</div>\n",
              "      <button class=\"colab-df-convert\" onclick=\"convertToInteractive('df-dfbdc688-4c66-47f5-bdf9-cd13d092837b')\"\n",
              "              title=\"Convert this dataframe to an interactive table.\"\n",
              "              style=\"display:none;\">\n",
              "\n",
              "  <svg xmlns=\"http://www.w3.org/2000/svg\" height=\"24px\"viewBox=\"0 0 24 24\"\n",
              "       width=\"24px\">\n",
              "    <path d=\"M0 0h24v24H0V0z\" fill=\"none\"/>\n",
              "    <path d=\"M18.56 5.44l.94 2.06.94-2.06 2.06-.94-2.06-.94-.94-2.06-.94 2.06-2.06.94zm-11 1L8.5 8.5l.94-2.06 2.06-.94-2.06-.94L8.5 2.5l-.94 2.06-2.06.94zm10 10l.94 2.06.94-2.06 2.06-.94-2.06-.94-.94-2.06-.94 2.06-2.06.94z\"/><path d=\"M17.41 7.96l-1.37-1.37c-.4-.4-.92-.59-1.43-.59-.52 0-1.04.2-1.43.59L10.3 9.45l-7.72 7.72c-.78.78-.78 2.05 0 2.83L4 21.41c.39.39.9.59 1.41.59.51 0 1.02-.2 1.41-.59l7.78-7.78 2.81-2.81c.8-.78.8-2.07 0-2.86zM5.41 20L4 18.59l7.72-7.72 1.47 1.35L5.41 20z\"/>\n",
              "  </svg>\n",
              "      </button>\n",
              "\n",
              "\n",
              "\n",
              "    <div id=\"df-bb6a05c5-2079-41bd-91dd-58c7cd1c6f3d\">\n",
              "      <button class=\"colab-df-quickchart\" onclick=\"quickchart('df-bb6a05c5-2079-41bd-91dd-58c7cd1c6f3d')\"\n",
              "              title=\"Suggest charts.\"\n",
              "              style=\"display:none;\">\n",
              "\n",
              "<svg xmlns=\"http://www.w3.org/2000/svg\" height=\"24px\"viewBox=\"0 0 24 24\"\n",
              "     width=\"24px\">\n",
              "    <g>\n",
              "        <path d=\"M19 3H5c-1.1 0-2 .9-2 2v14c0 1.1.9 2 2 2h14c1.1 0 2-.9 2-2V5c0-1.1-.9-2-2-2zM9 17H7v-7h2v7zm4 0h-2V7h2v10zm4 0h-2v-4h2v4z\"/>\n",
              "    </g>\n",
              "</svg>\n",
              "      </button>\n",
              "    </div>\n",
              "\n",
              "<style>\n",
              "  .colab-df-quickchart {\n",
              "    background-color: #E8F0FE;\n",
              "    border: none;\n",
              "    border-radius: 50%;\n",
              "    cursor: pointer;\n",
              "    display: none;\n",
              "    fill: #1967D2;\n",
              "    height: 32px;\n",
              "    padding: 0 0 0 0;\n",
              "    width: 32px;\n",
              "  }\n",
              "\n",
              "  .colab-df-quickchart:hover {\n",
              "    background-color: #E2EBFA;\n",
              "    box-shadow: 0px 1px 2px rgba(60, 64, 67, 0.3), 0px 1px 3px 1px rgba(60, 64, 67, 0.15);\n",
              "    fill: #174EA6;\n",
              "  }\n",
              "\n",
              "  [theme=dark] .colab-df-quickchart {\n",
              "    background-color: #3B4455;\n",
              "    fill: #D2E3FC;\n",
              "  }\n",
              "\n",
              "  [theme=dark] .colab-df-quickchart:hover {\n",
              "    background-color: #434B5C;\n",
              "    box-shadow: 0px 1px 3px 1px rgba(0, 0, 0, 0.15);\n",
              "    filter: drop-shadow(0px 1px 2px rgba(0, 0, 0, 0.3));\n",
              "    fill: #FFFFFF;\n",
              "  }\n",
              "</style>\n",
              "\n",
              "    <script>\n",
              "      async function quickchart(key) {\n",
              "        const containerElement = document.querySelector('#' + key);\n",
              "        const charts = await google.colab.kernel.invokeFunction(\n",
              "            'suggestCharts', [key], {});\n",
              "      }\n",
              "    </script>\n",
              "\n",
              "      <script>\n",
              "\n",
              "function displayQuickchartButton(domScope) {\n",
              "  let quickchartButtonEl =\n",
              "    domScope.querySelector('#df-bb6a05c5-2079-41bd-91dd-58c7cd1c6f3d button.colab-df-quickchart');\n",
              "  quickchartButtonEl.style.display =\n",
              "    google.colab.kernel.accessAllowed ? 'block' : 'none';\n",
              "}\n",
              "\n",
              "        displayQuickchartButton(document);\n",
              "      </script>\n",
              "      <style>\n",
              "    .colab-df-container {\n",
              "      display:flex;\n",
              "      flex-wrap:wrap;\n",
              "      gap: 12px;\n",
              "    }\n",
              "\n",
              "    .colab-df-convert {\n",
              "      background-color: #E8F0FE;\n",
              "      border: none;\n",
              "      border-radius: 50%;\n",
              "      cursor: pointer;\n",
              "      display: none;\n",
              "      fill: #1967D2;\n",
              "      height: 32px;\n",
              "      padding: 0 0 0 0;\n",
              "      width: 32px;\n",
              "    }\n",
              "\n",
              "    .colab-df-convert:hover {\n",
              "      background-color: #E2EBFA;\n",
              "      box-shadow: 0px 1px 2px rgba(60, 64, 67, 0.3), 0px 1px 3px 1px rgba(60, 64, 67, 0.15);\n",
              "      fill: #174EA6;\n",
              "    }\n",
              "\n",
              "    [theme=dark] .colab-df-convert {\n",
              "      background-color: #3B4455;\n",
              "      fill: #D2E3FC;\n",
              "    }\n",
              "\n",
              "    [theme=dark] .colab-df-convert:hover {\n",
              "      background-color: #434B5C;\n",
              "      box-shadow: 0px 1px 3px 1px rgba(0, 0, 0, 0.15);\n",
              "      filter: drop-shadow(0px 1px 2px rgba(0, 0, 0, 0.3));\n",
              "      fill: #FFFFFF;\n",
              "    }\n",
              "  </style>\n",
              "\n",
              "      <script>\n",
              "        const buttonEl =\n",
              "          document.querySelector('#df-dfbdc688-4c66-47f5-bdf9-cd13d092837b button.colab-df-convert');\n",
              "        buttonEl.style.display =\n",
              "          google.colab.kernel.accessAllowed ? 'block' : 'none';\n",
              "\n",
              "        async function convertToInteractive(key) {\n",
              "          const element = document.querySelector('#df-dfbdc688-4c66-47f5-bdf9-cd13d092837b');\n",
              "          const dataTable =\n",
              "            await google.colab.kernel.invokeFunction('convertToInteractive',\n",
              "                                                     [key], {});\n",
              "          if (!dataTable) return;\n",
              "\n",
              "          const docLinkHtml = 'Like what you see? Visit the ' +\n",
              "            '<a target=\"_blank\" href=https://colab.research.google.com/notebooks/data_table.ipynb>data table notebook</a>'\n",
              "            + ' to learn more about interactive tables.';\n",
              "          element.innerHTML = '';\n",
              "          dataTable['output_type'] = 'display_data';\n",
              "          await google.colab.output.renderOutput(dataTable, element);\n",
              "          const docLink = document.createElement('div');\n",
              "          docLink.innerHTML = docLinkHtml;\n",
              "          element.appendChild(docLink);\n",
              "        }\n",
              "      </script>\n",
              "    </div>\n",
              "  </div>\n"
            ]
          },
          "metadata": {},
          "execution_count": 24
        }
      ]
    },
    {
      "cell_type": "markdown",
      "source": [
        "The summary statistics resultst shown above describe the main points of the merged dataset for the columns:\n",
        "\n",
        "HDI (Human Development Index): The mean HDI is approximately 0.734, with a standard deviation of 0.158. The minimum HDI value is 0.394, while the maximum is 0.962\n",
        "\n",
        "Happiness Score: The mean happiness score is around 5.558, with a standard deviation of 1.109. The minimum score observed is 2.523, while the maximum is 7.842. The dataset consists of 130 observations for this column.\n",
        "\n",
        "GDP per capita: The mean GDP per capita is approximately 9.422, with a standard deviation of 1.188. The minimum observed value is 6.635, while the maximum is 11.647.\n",
        "\n",
        "Social support: The mean social support score is around 0.817, with a standard deviation of 0.119. The minimum observed value is 0.463, while the maximum is 0.983.\n",
        "\n",
        "Healthy life expectancy: The mean healthy life expectancy is approximately 65.032 years, with a standard deviation of 6.723. The minimum observed value is 48.478 years, while the maximum is 76.953 years.\n",
        "\n",
        "Freedom: The mean freedom score is around 0.797, with a standard deviation of 0.113. The minimum observed value is 0.382, while the maximum is 0.970.\n",
        "\n",
        "Corruption Perception: The mean corruption perception score is approximately 0.724, with a standard deviation of 0.186. The minimum observed value is 0.082, while the maximum is 0.939."
      ],
      "metadata": {
        "id": "7UJdgRmWq4vm"
      }
    },
    {
      "cell_type": "markdown",
      "source": [
        "We also check for the correlation between the columns"
      ],
      "metadata": {
        "id": "mHskR4v6q8GD"
      }
    },
    {
      "cell_type": "code",
      "source": [
        "data.corr()"
      ],
      "metadata": {
        "colab": {
          "base_uri": "https://localhost:8080/",
          "height": 325
        },
        "id": "bBfeVjdUq_Tx",
        "outputId": "970c5bc5-0cdd-4ddb-efb3-1d3649716f2d"
      },
      "execution_count": null,
      "outputs": [
        {
          "output_type": "stream",
          "name": "stderr",
          "text": [
            "<ipython-input-25-c44ded798807>:1: FutureWarning: The default value of numeric_only in DataFrame.corr is deprecated. In a future version, it will default to False. Select only valid columns or specify the value of numeric_only to silence this warning.\n",
            "  data.corr()\n"
          ]
        },
        {
          "output_type": "execute_result",
          "data": {
            "text/plain": [
              "                              HDI  Happiness Score  GDP per capita  \\\n",
              "HDI                      1.000000         0.816448        0.968737   \n",
              "Happiness Score          0.816448         1.000000        0.808920   \n",
              "GDP per capita           0.968737         0.808920        1.000000   \n",
              "Social support           0.796669         0.771706        0.799075   \n",
              "Healthy life expectancy  0.921119         0.804530        0.873249   \n",
              "Freedom                  0.512714         0.630373        0.499963   \n",
              "Corruption Perception   -0.379320        -0.472142       -0.356203   \n",
              "\n",
              "                         Social support  Healthy life expectancy   Freedom  \\\n",
              "HDI                            0.796669                 0.921119  0.512714   \n",
              "Happiness Score                0.771706                 0.804530  0.630373   \n",
              "GDP per capita                 0.799075                 0.873249  0.499963   \n",
              "Social support                 1.000000                 0.738688  0.516269   \n",
              "Healthy life expectancy        0.738688                 1.000000  0.527271   \n",
              "Freedom                        0.516269                 0.527271  1.000000   \n",
              "Corruption Perception         -0.234196                -0.384354 -0.446984   \n",
              "\n",
              "                         Corruption Perception  \n",
              "HDI                                  -0.379320  \n",
              "Happiness Score                      -0.472142  \n",
              "GDP per capita                       -0.356203  \n",
              "Social support                       -0.234196  \n",
              "Healthy life expectancy              -0.384354  \n",
              "Freedom                              -0.446984  \n",
              "Corruption Perception                 1.000000  "
            ],
            "text/html": [
              "\n",
              "\n",
              "  <div id=\"df-57d135c6-e025-4a6d-aba5-1fd23b940bf3\">\n",
              "    <div class=\"colab-df-container\">\n",
              "      <div>\n",
              "<style scoped>\n",
              "    .dataframe tbody tr th:only-of-type {\n",
              "        vertical-align: middle;\n",
              "    }\n",
              "\n",
              "    .dataframe tbody tr th {\n",
              "        vertical-align: top;\n",
              "    }\n",
              "\n",
              "    .dataframe thead th {\n",
              "        text-align: right;\n",
              "    }\n",
              "</style>\n",
              "<table border=\"1\" class=\"dataframe\">\n",
              "  <thead>\n",
              "    <tr style=\"text-align: right;\">\n",
              "      <th></th>\n",
              "      <th>HDI</th>\n",
              "      <th>Happiness Score</th>\n",
              "      <th>GDP per capita</th>\n",
              "      <th>Social support</th>\n",
              "      <th>Healthy life expectancy</th>\n",
              "      <th>Freedom</th>\n",
              "      <th>Corruption Perception</th>\n",
              "    </tr>\n",
              "  </thead>\n",
              "  <tbody>\n",
              "    <tr>\n",
              "      <th>HDI</th>\n",
              "      <td>1.000000</td>\n",
              "      <td>0.816448</td>\n",
              "      <td>0.968737</td>\n",
              "      <td>0.796669</td>\n",
              "      <td>0.921119</td>\n",
              "      <td>0.512714</td>\n",
              "      <td>-0.379320</td>\n",
              "    </tr>\n",
              "    <tr>\n",
              "      <th>Happiness Score</th>\n",
              "      <td>0.816448</td>\n",
              "      <td>1.000000</td>\n",
              "      <td>0.808920</td>\n",
              "      <td>0.771706</td>\n",
              "      <td>0.804530</td>\n",
              "      <td>0.630373</td>\n",
              "      <td>-0.472142</td>\n",
              "    </tr>\n",
              "    <tr>\n",
              "      <th>GDP per capita</th>\n",
              "      <td>0.968737</td>\n",
              "      <td>0.808920</td>\n",
              "      <td>1.000000</td>\n",
              "      <td>0.799075</td>\n",
              "      <td>0.873249</td>\n",
              "      <td>0.499963</td>\n",
              "      <td>-0.356203</td>\n",
              "    </tr>\n",
              "    <tr>\n",
              "      <th>Social support</th>\n",
              "      <td>0.796669</td>\n",
              "      <td>0.771706</td>\n",
              "      <td>0.799075</td>\n",
              "      <td>1.000000</td>\n",
              "      <td>0.738688</td>\n",
              "      <td>0.516269</td>\n",
              "      <td>-0.234196</td>\n",
              "    </tr>\n",
              "    <tr>\n",
              "      <th>Healthy life expectancy</th>\n",
              "      <td>0.921119</td>\n",
              "      <td>0.804530</td>\n",
              "      <td>0.873249</td>\n",
              "      <td>0.738688</td>\n",
              "      <td>1.000000</td>\n",
              "      <td>0.527271</td>\n",
              "      <td>-0.384354</td>\n",
              "    </tr>\n",
              "    <tr>\n",
              "      <th>Freedom</th>\n",
              "      <td>0.512714</td>\n",
              "      <td>0.630373</td>\n",
              "      <td>0.499963</td>\n",
              "      <td>0.516269</td>\n",
              "      <td>0.527271</td>\n",
              "      <td>1.000000</td>\n",
              "      <td>-0.446984</td>\n",
              "    </tr>\n",
              "    <tr>\n",
              "      <th>Corruption Perception</th>\n",
              "      <td>-0.379320</td>\n",
              "      <td>-0.472142</td>\n",
              "      <td>-0.356203</td>\n",
              "      <td>-0.234196</td>\n",
              "      <td>-0.384354</td>\n",
              "      <td>-0.446984</td>\n",
              "      <td>1.000000</td>\n",
              "    </tr>\n",
              "  </tbody>\n",
              "</table>\n",
              "</div>\n",
              "      <button class=\"colab-df-convert\" onclick=\"convertToInteractive('df-57d135c6-e025-4a6d-aba5-1fd23b940bf3')\"\n",
              "              title=\"Convert this dataframe to an interactive table.\"\n",
              "              style=\"display:none;\">\n",
              "\n",
              "  <svg xmlns=\"http://www.w3.org/2000/svg\" height=\"24px\"viewBox=\"0 0 24 24\"\n",
              "       width=\"24px\">\n",
              "    <path d=\"M0 0h24v24H0V0z\" fill=\"none\"/>\n",
              "    <path d=\"M18.56 5.44l.94 2.06.94-2.06 2.06-.94-2.06-.94-.94-2.06-.94 2.06-2.06.94zm-11 1L8.5 8.5l.94-2.06 2.06-.94-2.06-.94L8.5 2.5l-.94 2.06-2.06.94zm10 10l.94 2.06.94-2.06 2.06-.94-2.06-.94-.94-2.06-.94 2.06-2.06.94z\"/><path d=\"M17.41 7.96l-1.37-1.37c-.4-.4-.92-.59-1.43-.59-.52 0-1.04.2-1.43.59L10.3 9.45l-7.72 7.72c-.78.78-.78 2.05 0 2.83L4 21.41c.39.39.9.59 1.41.59.51 0 1.02-.2 1.41-.59l7.78-7.78 2.81-2.81c.8-.78.8-2.07 0-2.86zM5.41 20L4 18.59l7.72-7.72 1.47 1.35L5.41 20z\"/>\n",
              "  </svg>\n",
              "      </button>\n",
              "\n",
              "\n",
              "\n",
              "    <div id=\"df-972046d2-0b1c-4b4a-a0cc-98c33ba74ad6\">\n",
              "      <button class=\"colab-df-quickchart\" onclick=\"quickchart('df-972046d2-0b1c-4b4a-a0cc-98c33ba74ad6')\"\n",
              "              title=\"Suggest charts.\"\n",
              "              style=\"display:none;\">\n",
              "\n",
              "<svg xmlns=\"http://www.w3.org/2000/svg\" height=\"24px\"viewBox=\"0 0 24 24\"\n",
              "     width=\"24px\">\n",
              "    <g>\n",
              "        <path d=\"M19 3H5c-1.1 0-2 .9-2 2v14c0 1.1.9 2 2 2h14c1.1 0 2-.9 2-2V5c0-1.1-.9-2-2-2zM9 17H7v-7h2v7zm4 0h-2V7h2v10zm4 0h-2v-4h2v4z\"/>\n",
              "    </g>\n",
              "</svg>\n",
              "      </button>\n",
              "    </div>\n",
              "\n",
              "<style>\n",
              "  .colab-df-quickchart {\n",
              "    background-color: #E8F0FE;\n",
              "    border: none;\n",
              "    border-radius: 50%;\n",
              "    cursor: pointer;\n",
              "    display: none;\n",
              "    fill: #1967D2;\n",
              "    height: 32px;\n",
              "    padding: 0 0 0 0;\n",
              "    width: 32px;\n",
              "  }\n",
              "\n",
              "  .colab-df-quickchart:hover {\n",
              "    background-color: #E2EBFA;\n",
              "    box-shadow: 0px 1px 2px rgba(60, 64, 67, 0.3), 0px 1px 3px 1px rgba(60, 64, 67, 0.15);\n",
              "    fill: #174EA6;\n",
              "  }\n",
              "\n",
              "  [theme=dark] .colab-df-quickchart {\n",
              "    background-color: #3B4455;\n",
              "    fill: #D2E3FC;\n",
              "  }\n",
              "\n",
              "  [theme=dark] .colab-df-quickchart:hover {\n",
              "    background-color: #434B5C;\n",
              "    box-shadow: 0px 1px 3px 1px rgba(0, 0, 0, 0.15);\n",
              "    filter: drop-shadow(0px 1px 2px rgba(0, 0, 0, 0.3));\n",
              "    fill: #FFFFFF;\n",
              "  }\n",
              "</style>\n",
              "\n",
              "    <script>\n",
              "      async function quickchart(key) {\n",
              "        const containerElement = document.querySelector('#' + key);\n",
              "        const charts = await google.colab.kernel.invokeFunction(\n",
              "            'suggestCharts', [key], {});\n",
              "      }\n",
              "    </script>\n",
              "\n",
              "      <script>\n",
              "\n",
              "function displayQuickchartButton(domScope) {\n",
              "  let quickchartButtonEl =\n",
              "    domScope.querySelector('#df-972046d2-0b1c-4b4a-a0cc-98c33ba74ad6 button.colab-df-quickchart');\n",
              "  quickchartButtonEl.style.display =\n",
              "    google.colab.kernel.accessAllowed ? 'block' : 'none';\n",
              "}\n",
              "\n",
              "        displayQuickchartButton(document);\n",
              "      </script>\n",
              "      <style>\n",
              "    .colab-df-container {\n",
              "      display:flex;\n",
              "      flex-wrap:wrap;\n",
              "      gap: 12px;\n",
              "    }\n",
              "\n",
              "    .colab-df-convert {\n",
              "      background-color: #E8F0FE;\n",
              "      border: none;\n",
              "      border-radius: 50%;\n",
              "      cursor: pointer;\n",
              "      display: none;\n",
              "      fill: #1967D2;\n",
              "      height: 32px;\n",
              "      padding: 0 0 0 0;\n",
              "      width: 32px;\n",
              "    }\n",
              "\n",
              "    .colab-df-convert:hover {\n",
              "      background-color: #E2EBFA;\n",
              "      box-shadow: 0px 1px 2px rgba(60, 64, 67, 0.3), 0px 1px 3px 1px rgba(60, 64, 67, 0.15);\n",
              "      fill: #174EA6;\n",
              "    }\n",
              "\n",
              "    [theme=dark] .colab-df-convert {\n",
              "      background-color: #3B4455;\n",
              "      fill: #D2E3FC;\n",
              "    }\n",
              "\n",
              "    [theme=dark] .colab-df-convert:hover {\n",
              "      background-color: #434B5C;\n",
              "      box-shadow: 0px 1px 3px 1px rgba(0, 0, 0, 0.15);\n",
              "      filter: drop-shadow(0px 1px 2px rgba(0, 0, 0, 0.3));\n",
              "      fill: #FFFFFF;\n",
              "    }\n",
              "  </style>\n",
              "\n",
              "      <script>\n",
              "        const buttonEl =\n",
              "          document.querySelector('#df-57d135c6-e025-4a6d-aba5-1fd23b940bf3 button.colab-df-convert');\n",
              "        buttonEl.style.display =\n",
              "          google.colab.kernel.accessAllowed ? 'block' : 'none';\n",
              "\n",
              "        async function convertToInteractive(key) {\n",
              "          const element = document.querySelector('#df-57d135c6-e025-4a6d-aba5-1fd23b940bf3');\n",
              "          const dataTable =\n",
              "            await google.colab.kernel.invokeFunction('convertToInteractive',\n",
              "                                                     [key], {});\n",
              "          if (!dataTable) return;\n",
              "\n",
              "          const docLinkHtml = 'Like what you see? Visit the ' +\n",
              "            '<a target=\"_blank\" href=https://colab.research.google.com/notebooks/data_table.ipynb>data table notebook</a>'\n",
              "            + ' to learn more about interactive tables.';\n",
              "          element.innerHTML = '';\n",
              "          dataTable['output_type'] = 'display_data';\n",
              "          await google.colab.output.renderOutput(dataTable, element);\n",
              "          const docLink = document.createElement('div');\n",
              "          docLink.innerHTML = docLinkHtml;\n",
              "          element.appendChild(docLink);\n",
              "        }\n",
              "      </script>\n",
              "    </div>\n",
              "  </div>\n"
            ]
          },
          "metadata": {},
          "execution_count": 25
        }
      ]
    },
    {
      "cell_type": "markdown",
      "source": [
        "The correlation matrix reveals the following key points:\n",
        "\n",
        "HDI (Human Development Index) is positively correlated with Happiness Score, GDP per capita, Social support, and Healthy life expectancy.\n",
        "\n",
        "Happiness Score is positively correlated with HDI, GDP per capita, Social support, and Healthy life expectancy.\n",
        "\n",
        "GDP per capita is positively correlated with HDI, Happiness Score, and Social support.\n",
        "\n",
        "Social support is positively correlated with HDI, Happiness Score, GDP per capita, and Healthy life expectancy.\n",
        "\n",
        "Healthy life expectancy is positively correlated with HDI, Happiness Score, GDP per capita, and Social support.\n",
        "\n",
        "Freedom has moderate positive correlations with HDI, Happiness Score, GDP per capita, Social support, and Healthy life expectancy.\n",
        "\n",
        "Corruption Perception has negative correlations with HDI, Happiness Score, GDP per capita, Social support, Healthy life expectancy, and Freedom.\n",
        "\n",
        "\n",
        "\n",
        "\n",
        "\n"
      ],
      "metadata": {
        "id": "cDxVmu5UrssO"
      }
    },
    {
      "cell_type": "markdown",
      "source": [
        "##Answers to the questions"
      ],
      "metadata": {
        "id": "hEI1TU4jpjry"
      }
    },
    {
      "cell_type": "markdown",
      "source": [
        "###Q1. In 2022, which countries were the most and the least happiest"
      ],
      "metadata": {
        "id": "0JCxb6j_tsNf"
      }
    },
    {
      "cell_type": "code",
      "source": [
        "#bar chart for most happiest country\n",
        "top_10_happiest = data.nlargest(10, 'Happiness Score')\n",
        "countries = top_10_happiest['Country']\n",
        "scores = top_10_happiest['Happiness Score']\n",
        "\n",
        "plt.bar(countries, scores)\n",
        "plt.xlabel('Country')\n",
        "plt.ylabel('Happiness Report Ladder Score')\n",
        "plt.title('Top 10 Happiest Countries')\n",
        "plt.xticks(rotation=45)\n",
        "plt.show()"
      ],
      "metadata": {
        "colab": {
          "base_uri": "https://localhost:8080/",
          "height": 532
        },
        "id": "sRzpdAFXtuhG",
        "outputId": "068f1dcd-278e-49c3-9cc8-c757f1c6d554"
      },
      "execution_count": null,
      "outputs": [
        {
          "output_type": "display_data",
          "data": {
            "text/plain": [
              "<Figure size 640x480 with 1 Axes>"
            ],
            "image/png": "[encoded data removed]"
          },
          "metadata": {}
        }
      ]
    },
    {
      "cell_type": "code",
      "source": [
        "#bar chart for least happiest country\n",
        "bottom_10_happiest = data.nsmallest(10, 'Happiness Score')\n",
        "countries = bottom_10_happiest['Country']\n",
        "scores = bottom_10_happiest['Happiness Score']\n",
        "\n",
        "plt.bar(countries, scores)\n",
        "plt.xlabel('Country')\n",
        "plt.ylabel('Happiness Report Ladder Score')\n",
        "plt.title('Bottom 10 Happiest Countries')\n",
        "plt.xticks(rotation=45)\n",
        "plt.show()"
      ],
      "metadata": {
        "colab": {
          "base_uri": "https://localhost:8080/",
          "height": 526
        },
        "id": "6TCXk8SHuA-z",
        "outputId": "47bc3b62-12a9-4d9d-93f4-18840787b38c"
      },
      "execution_count": null,
      "outputs": [
        {
          "output_type": "display_data",
          "data": {
            "text/plain": [
              "<Figure size 640x480 with 1 Axes>"
            ],
            "image/png": "[encoded data removed]"
          },
          "metadata": {}
        }
      ]
    },
    {
      "cell_type": "markdown",
      "source": [
        "###Answer 1\n",
        "\n",
        "The top 10 happiest countries were Finland, Denmark, Switzerland, Iceland, Netherlands, Norway, Sweden, Luxembourg, New Zealand, and Austria (From happiest to happier). These countries obtained the highest Happiness Scores, indicating that their citizens reported a higher sense of happiness and life satisfaction. On the other hand, the bottom 10 countries with the lowest Happiness Scores, indicating lower levels of happiness, were Afghanistan, Zimbabwe, Rwanda, Botswana, Lesotho, Malawi, Haiti, Yemen, Burundi, and India (From least happiest to more)"
      ],
      "metadata": {
        "id": "Cg4sY62ToqWo"
      }
    },
    {
      "cell_type": "markdown",
      "source": [
        "###Q2. Is there a correlation between a country's Happiness Report Ladder Score and its Human Development Index (HDI)? Can countries with higher HDI scores be considered happier on average?"
      ],
      "metadata": {
        "id": "PeyX_Pqbpmzf"
      }
    },
    {
      "cell_type": "code",
      "source": [
        "plt.scatter(data['HDI'], data['Happiness Score'])\n",
        "plt.xlabel('Human Development Index (HDI)')\n",
        "plt.ylabel('Happiness Report Ladder Score')\n",
        "plt.title('Correlation between HDI and Happiness Score')\n",
        "plt.show()"
      ],
      "metadata": {
        "colab": {
          "base_uri": "https://localhost:8080/",
          "height": 472
        },
        "id": "1WpMyCNNpi2r",
        "outputId": "9cd1a724-1cc0-482b-e146-4dd5c0f793e1"
      },
      "execution_count": null,
      "outputs": [
        {
          "output_type": "display_data",
          "data": {
            "text/plain": [
              "<Figure size 640x480 with 1 Axes>"
            ],
            "image/png": "[encoded data removed]"
          },
          "metadata": {}
        }
      ]
    },
    {
      "cell_type": "markdown",
      "source": [
        "In this analysis, we divide the dataset into HDI groups based on predefined thresholds: low, medium, and high. We then calculate the average Happiness Score for each HDI group and compared them to examine if countries with higher HDI scores tend to have higher average Happiness Scores."
      ],
      "metadata": {
        "id": "kBL7aZYFxSd-"
      }
    },
    {
      "cell_type": "code",
      "source": [
        "\n",
        "# Divide the dataset into HDI groups based on predefined thresholds\n",
        "low_hdi = data[data['HDI'] < 0.6]\n",
        "medium_hdi = data[(data['HDI'] >= 0.6) & (data['HDI'] < 0.8)]\n",
        "high_hdi = data[data['HDI'] >= 0.8]\n",
        "\n",
        "# Calculate the average Happiness Score for each HDI group\n",
        "low_happiness_mean = low_hdi['Happiness Score'].mean()\n",
        "medium_happiness_mean = medium_hdi['Happiness Score'].mean()\n",
        "high_happiness_mean = high_hdi['Happiness Score'].mean()\n",
        "\n",
        "# Create a bar chart to compare average Happiness Scores across HDI groups\n",
        "hdi_groups = ['Low HDI', 'Medium HDI', 'High HDI']\n",
        "happiness_means = [low_happiness_mean, medium_happiness_mean, high_happiness_mean]\n",
        "\n",
        "plt.bar(hdi_groups, happiness_means)\n",
        "plt.xlabel('HDI Group')\n",
        "plt.ylabel('Average Happiness Score')\n",
        "plt.title('Comparison of Happiness Scores across HDI Groups')\n",
        "plt.show()"
      ],
      "metadata": {
        "colab": {
          "base_uri": "https://localhost:8080/",
          "height": 472
        },
        "id": "eRLa-pdVxAWQ",
        "outputId": "ea929c4f-3dcf-4770-9fda-2ee5dcaff55d"
      },
      "execution_count": null,
      "outputs": [
        {
          "output_type": "display_data",
          "data": {
            "text/plain": [
              "<Figure size 640x480 with 1 Axes>"
            ],
            "image/png": "[encoded data removed]"
          },
          "metadata": {}
        }
      ]
    },
    {
      "cell_type": "markdown",
      "source": [
        "###Answer 2"
      ],
      "metadata": {
        "id": "QIv8SDuiqocQ"
      }
    },
    {
      "cell_type": "markdown",
      "source": [
        "\n",
        "The bar chart comparing the average Happiness Scores across HDI groups showed that countries with higher HDI scores had higher average Happiness Scores. The \"High HDI\" group had the highest average Happiness Score, followed by the \"Medium HDI\" group, while the \"Low HDI\" group had the lowest average Happiness Score. This indicates a positive relationship between HDI and Happiness Scores, suggesting that countries with higher levels of human development tend to experience greater levels of happiness on average.This is also confirmed by the Happiness-HDI scatter plot; which shows a linear upwards trend with positive slope."
      ],
      "metadata": {
        "id": "QUkP0fRtxUS0"
      }
    },
    {
      "cell_type": "markdown",
      "source": [
        "###Q.3 How does a country's Gross Domestic Product (GDP) per capita relate to its Happiness Report Ladder Score? Is there a positive correlation indicating that higher GDP per capita leads to higher happiness levels?"
      ],
      "metadata": {
        "id": "ogMO4ErIxhFE"
      }
    },
    {
      "cell_type": "code",
      "source": [
        "plt.scatter(data['GDP per capita'], data['Happiness Score'])\n",
        "plt.xlabel('GDP per capita')\n",
        "plt.ylabel('Happiness Report Ladder Score')\n",
        "plt.title('Correlation between GDP per capita and Happiness Score')\n",
        "plt.show()"
      ],
      "metadata": {
        "colab": {
          "base_uri": "https://localhost:8080/",
          "height": 472
        },
        "id": "lrvejVthZXfH",
        "outputId": "6c16ebb0-eb62-4ebc-fa94-d3d2eb523b68"
      },
      "execution_count": null,
      "outputs": [
        {
          "output_type": "display_data",
          "data": {
            "text/plain": [
              "<Figure size 640x480 with 1 Axes>"
            ],
            "image/png": "[encoded data removed]"
          },
          "metadata": {}
        }
      ]
    },
    {
      "cell_type": "markdown",
      "source": [
        "Like the previous question, in this analysis, we divide the dataset into GDP per capita based on predefined thresholds: low, medium, and high GDP per capita. We then calculate the average Happiness Score for each group and compared them to examine if countries with higher GDP per capita tend to have higher average Happiness Scores."
      ],
      "metadata": {
        "id": "f5nQJiYmWRmC"
      }
    },
    {
      "cell_type": "code",
      "source": [
        "# Divide the dataset into GDP per capita groups based on predefined thresholds\n",
        "low_gdp = data[data['GDP per capita'] < 8]\n",
        "medium_gdp = data[(data['GDP per capita'] >= 8) & (data['GDP per capita'] < 10)]\n",
        "high_gdp = data[data['GDP per capita'] >= 10]\n",
        "\n",
        "# Calculate the average Happiness Score for each GDP per capita group\n",
        "low_happiness_mean = low_gdp['Happiness Score'].mean()\n",
        "medium_happiness_mean = medium_gdp['Happiness Score'].mean()\n",
        "high_happiness_mean = high_gdp['Happiness Score'].mean()\n",
        "\n",
        "# Create a bar chart to compare average Happiness Scores across GDP per capita groups\n",
        "gdp_groups = ['Low GDP per capita', 'Medium GDP per capita', 'High GDP per capita']\n",
        "happiness_means = [low_happiness_mean, medium_happiness_mean, high_happiness_mean]\n",
        "\n",
        "plt.bar(gdp_groups, happiness_means)\n",
        "plt.xlabel('GDP per capita Group')\n",
        "plt.ylabel('Average Happiness Score')\n",
        "plt.title('Comparison of Happiness Scores across GDP per capita Groups')\n",
        "plt.show()"
      ],
      "metadata": {
        "id": "v7ogNmkZxi2t",
        "colab": {
          "base_uri": "https://localhost:8080/",
          "height": 472
        },
        "outputId": "69d6e765-b09b-4d27-c5a1-ec2e9bb445f9"
      },
      "execution_count": null,
      "outputs": [
        {
          "output_type": "display_data",
          "data": {
            "text/plain": [
              "<Figure size 640x480 with 1 Axes>"
            ],
            "image/png": "[encoded data removed]"
          },
          "metadata": {}
        }
      ]
    },
    {
      "cell_type": "markdown",
      "source": [
        "###Answer 3\n",
        "\n",
        "The analysis exploring the relationship between a country's Gross Domestic Product (GDP) per capita and its Happiness Report Ladder Score revealed a scatter plot with a positive slope. This positive correlation suggests that higher GDP per capita tends to be associated with higher happiness levels, indicating that countries with stronger economic indicators may experience higher overall life satisfaction. The mean Happiness Report Ladder Scores for countries with low, medium, and high GDP per capita were approximately 4.1, 5.3, and 6.6, respectively. These results indicate a clear trend of increasing happiness levels as GDP per capita rises, signifying the potential impact of economic prosperity on the subjective well-being of citizens."
      ],
      "metadata": {
        "id": "0soRlqwFsW6A"
      }
    },
    {
      "cell_type": "markdown",
      "source": [
        "###Q4. Are there any significant differences in Happiness Report Ladder Scores among countries based on their regional indicators? Which regions tend to have higher average happiness levels?"
      ],
      "metadata": {
        "id": "i2Sp-yC2bCqZ"
      }
    },
    {
      "cell_type": "code",
      "source": [
        "# Calculate the average Happiness Report Ladder Score for each regional indicator\n",
        "average_scores_by_region = data.groupby('Region')['Happiness Score'].mean()\n",
        "\n",
        "# Sort the regions in descending order of average Happiness Report Ladder Scores\n",
        "average_scores_by_region = average_scores_by_region.sort_values(ascending=False)\n",
        "\n",
        "# Create a bar chart to compare average Happiness Report Ladder Scores among regions\n",
        "plt.bar(average_scores_by_region.index, average_scores_by_region.values)\n",
        "plt.xlabel('Regional Indicator')\n",
        "plt.ylabel('Average Happiness Report Ladder Score')\n",
        "plt.title('Comparison of Happiness Report Ladder Scores by Region')\n",
        "plt.xticks(rotation=90)\n",
        "plt.show()"
      ],
      "metadata": {
        "colab": {
          "base_uri": "https://localhost:8080/",
          "height": 725
        },
        "id": "xlqBC3ODbJlA",
        "outputId": "47274387-c02a-4a41-b9b9-11ced9e65f53"
      },
      "execution_count": null,
      "outputs": [
        {
          "output_type": "display_data",
          "data": {
            "text/plain": [
              "<Figure size 640x480 with 1 Axes>"
            ],
            "image/png": "[encoded data removed]"
          },
          "metadata": {}
        }
      ]
    },
    {
      "cell_type": "markdown",
      "source": [
        "###Answer 4\n",
        "\n",
        "The result indicates that countries in North America, ANZ, and Western Europe generally exhibited higher happiness levels, while countries in Sub-Saharan Africa and South Asia reported lower levels of overall life satisfaction.The regions with the highest average Happiness Report Ladder Scores were North America and ANZ, and Western Europe, with approximate scores of 7.1 and 7.0, respectively.\n",
        "\n",
        " On the other hand, regions like Sub-Saharan Africa and South Asia reported lower average Happiness Report Ladder Scores, with scores of approximately 4.5 and 4.4, respectively\n",
        "\n"
      ],
      "metadata": {
        "id": "IUKpZVkJtHed"
      }
    },
    {
      "cell_type": "markdown",
      "source": [
        "###Q5. Does social support (as measured in the Happiness Report dataset) have a positive impact on a country's Human Development Index? Is there a correlation between social support and overall development?\n"
      ],
      "metadata": {
        "id": "XVIQ5ehdlO6B"
      }
    },
    {
      "cell_type": "code",
      "source": [
        "# Scatter plot of social support vs. HDI\n",
        "plt.scatter(data['Social support'], data['HDI'])\n",
        "plt.xlabel('Social Support')\n",
        "plt.ylabel('Human Development Index (HDI)')\n",
        "plt.title('Relationship between Social Support and HDI')\n",
        "\n",
        "# Calculate the correlation coefficient\n",
        "correlation = data['Social support'].corr(data['HDI'])\n",
        "print(\"Correlation coefficient between Social Support and HDI:\", correlation)\n",
        "\n",
        "plt.show()"
      ],
      "metadata": {
        "colab": {
          "base_uri": "https://localhost:8080/",
          "height": 490
        },
        "id": "7ByUW3fhnEZ6",
        "outputId": "b8e87b3e-158a-4211-bcb8-a7661aaf4f92"
      },
      "execution_count": null,
      "outputs": [
        {
          "output_type": "stream",
          "name": "stdout",
          "text": [
            "Correlation coefficient between Social Support and HDI: 0.7966691838132561\n"
          ]
        },
        {
          "output_type": "display_data",
          "data": {
            "text/plain": [
              "<Figure size 640x480 with 1 Axes>"
            ],
            "image/png": "[encoded data removed]"
          },
          "metadata": {}
        }
      ]
    },
    {
      "cell_type": "markdown",
      "source": [
        "The social support is divived into qunatiles which forms groups for each quantile. Group 1 having the lowest social support up to Group 4 having the highest."
      ],
      "metadata": {
        "id": "N1VP3-MaWiVU"
      }
    },
    {
      "cell_type": "code",
      "source": [
        "# Determine quartile thresholds for social support\n",
        "quartiles = data['Social support'].quantile([0, 0.25, 0.5, 0.75, 1])\n",
        "\n",
        "# Create social support groups based on quartiles\n",
        "data['Social Support Group'] = pd.cut(data['Social support'], bins=quartiles, labels=False)\n",
        "\n",
        "average_hdi_by_social_support = data.groupby('Social Support Group')['HDI'].mean()\n",
        "\n",
        "\n"
      ],
      "metadata": {
        "id": "UA2bewVTtpOp"
      },
      "execution_count": null,
      "outputs": []
    },
    {
      "cell_type": "code",
      "source": [
        "# Plotting the average HDI scores for each social support group\n",
        "plt.bar(average_hdi_by_social_support.index, average_hdi_by_social_support.values)\n",
        "plt.xlabel('Social Support Group')\n",
        "plt.ylabel('Average HDI')\n",
        "plt.title('Comparison of Average HDI by Social Support Group')\n",
        "plt.xticks(range(len(average_hdi_by_social_support)), ['Group 1', 'Group 2', 'Group 3', 'Group 4'])\n",
        "plt.show()\n"
      ],
      "metadata": {
        "colab": {
          "base_uri": "https://localhost:8080/",
          "height": 472
        },
        "id": "JB9eP_Scv0DP",
        "outputId": "51d56eed-da37-4ab4-c356-66a7bdbc65ce"
      },
      "execution_count": null,
      "outputs": [
        {
          "output_type": "display_data",
          "data": {
            "text/plain": [
              "<Figure size 640x480 with 1 Axes>"
            ],
            "image/png": "[encoded data removed]"
          },
          "metadata": {}
        }
      ]
    },
    {
      "cell_type": "markdown",
      "source": [
        "###Answer 5\n",
        "\n",
        "The average HDI for countries in the lowest quartile of social support was approximately 0.56, while countries in the second, third, and fourth quartiles had average HDI values of about 0.69, 0.81, and 0.89, respectively. The increasing trend in average HDI values across the quartiles of social support indicates that as social support improves, so does the overall development of a country.\n",
        "\n",
        "Furthermore, the correlation analysis revealed a strong positive correlation of almost 0.8 between social support and HDI. This high correlation coefficient suggests a robust relationship between social support and a country's development."
      ],
      "metadata": {
        "id": "OJOTKn6Xvx_r"
      }
    },
    {
      "cell_type": "markdown",
      "source": [
        "###Q6.  How does a country's Logged GDP per capita relate to its Happiness Report Ladder Score? Is there a positive correlation indicating that higher GDP per capita leads to higher happiness levels?"
      ],
      "metadata": {
        "id": "B9Db9Rn10CYU"
      }
    },
    {
      "cell_type": "code",
      "source": [
        "# Create a bubble chart\n",
        "plt.scatter(data['GDP per capita'], data['Happiness Score'], s=data['HDI']*1000, alpha=0.7)\n",
        "\n",
        "# Set labels and title\n",
        "plt.xlabel('Logged GDP per capita')\n",
        "plt.ylabel('Happiness Report Ladder Score')\n",
        "plt.title('Relationship between GDP per capita and Happiness Ladder Score')\n",
        "\n",
        "# Show the plot\n",
        "plt.show()"
      ],
      "metadata": {
        "colab": {
          "base_uri": "https://localhost:8080/",
          "height": 472
        },
        "id": "jCHvFUl85Ls4",
        "outputId": "ed6580c0-cbc5-4791-eb68-b04331a571bf"
      },
      "execution_count": null,
      "outputs": [
        {
          "output_type": "display_data",
          "data": {
            "text/plain": [
              "<Figure size 640x480 with 1 Axes>"
            ],
            "image/png": "[encoded data removed]"
          },
          "metadata": {}
        }
      ]
    },
    {
      "cell_type": "markdown",
      "source": [
        "###Answer 6\n",
        "\n",
        "The bubble chart analysis examining the relationship between a country's Logged GDP per capita and its Happiness Report Ladder Score reveals a positive correlation of approximately 0.81. This strong positive correlation indicates that higher GDP per capita tends to be associated with higher Happiness Report Ladder Scores, suggesting that economic prosperity plays a significant role in contributing to higher levels of happiness and life satisfaction in a country."
      ],
      "metadata": {
        "id": "7XbBfK2SwhR8"
      }
    },
    {
      "cell_type": "markdown",
      "source": [
        "###Q7. Is there a significant difference in Happiness Report Ladder Scores across countries based on their levels of Healthy Life Expectancy?"
      ],
      "metadata": {
        "id": "xnlrbBYN6mqU"
      }
    },
    {
      "cell_type": "code",
      "source": [
        "data['Healthy life expectancy'].max()"
      ],
      "metadata": {
        "colab": {
          "base_uri": "https://localhost:8080/"
        },
        "id": "pK-vVXam6l8T",
        "outputId": "98e12a98-b71b-4432-bb2f-e5459b7f11c8"
      },
      "execution_count": null,
      "outputs": [
        {
          "output_type": "execute_result",
          "data": {
            "text/plain": [
              "76.953"
            ]
          },
          "metadata": {},
          "execution_count": 38
        }
      ]
    },
    {
      "cell_type": "markdown",
      "source": [
        "Healthy life expectancy is divded into 3 groups based on pre defined thresholds. These groups are Low, Medium, High healthy life expcetancy. The average happiness score for each group is plotted."
      ],
      "metadata": {
        "id": "tBXSlgCxW0bu"
      }
    },
    {
      "cell_type": "code",
      "source": [
        "# Define the thresholds for grouping\n",
        "thresholds = [44, 56, 68, 80]\n",
        "\n",
        "\n",
        "# Create bins based on the thresholds\n",
        "data['Life Expectancy Group'] = pd.cut(data['Healthy life expectancy'], bins=thresholds, labels=['Low', 'Medium', 'High'])\n",
        "\n",
        "# Calculate the mean Happiness Report Ladder Score for each group\n",
        "grouped_data = data.groupby('Life Expectancy Group')['Happiness Score'].mean().sort_values()\n",
        "\n",
        "# Create a pie chart to represent the distribution of countries and their mean Happiness Report Ladder Scores\n",
        "plt.pie(grouped_data, labels=grouped_data.index, autopct='%1.1f%%')\n",
        "plt.title('Distribution of Countries based on Healthy Life Expectancy Group')\n",
        "plt.axis('equal')\n",
        "\n",
        "# Display the pie chart\n",
        "plt.show()"
      ],
      "metadata": {
        "colab": {
          "base_uri": "https://localhost:8080/",
          "height": 428
        },
        "id": "KHO65xC4Be3K",
        "outputId": "1a4dd9dc-08d4-4232-aa6c-57f1ae2af593"
      },
      "execution_count": null,
      "outputs": [
        {
          "output_type": "display_data",
          "data": {
            "text/plain": [
              "<Figure size 640x480 with 1 Axes>"
            ],
            "image/png": "[encoded data removed]"
          },
          "metadata": {}
        }
      ]
    },
    {
      "cell_type": "markdown",
      "source": [
        "###Answer 7\n",
        "\n",
        "The analysis examining the difference in Happiness Report Ladder Scores across countries based on their levels of Healthy Life Expectancy indicates notable variations in average happiness levels among different Life Expectancy Groups.\n",
        "\n",
        "The results reveal that countries in the High Life Expectancy Group had the highest average Happiness Report Ladder Score, with a mean score of approximately 6.5. On the other hand, countries in the Medium Life Expectancy Group reported a lower average Happiness Report Ladder Score, with a mean score of around 5.1. Countries in the Low Life Expectancy Group had the lowest average Happiness Report Ladder Score, with a mean score of approximately 4.4."
      ],
      "metadata": {
        "id": "4OWWWKyMy3hL"
      }
    },
    {
      "cell_type": "markdown",
      "source": [
        "##Conclusions and Discussion"
      ],
      "metadata": {
        "id": "egUx-DvtzF_u"
      }
    },
    {
      "cell_type": "markdown",
      "source": [
        "The analysis of the World Happiness Report dataset and the Human Development Index dataset for the year 2022 provided valuable insights into the factors influencing happiness levels and overall development across different countries.\n",
        "\n",
        "Happiness and Development: The analysis revealed a positive correlation between a country's Human Development Index (HDI) and its Happiness Report Ladder Score, indicating that higher HDI scores tend to be associated with higher happiness levels. This highlights the interplay between economic, social, and health factors in shaping a nation's overall well-being.\n",
        "\n",
        "GDP and Happiness: A strong positive correlation between a country's Logged GDP per capita and its Happiness Report Ladder Score was observed. This finding suggests that higher economic prosperity is often linked to higher levels of happiness, emphasizing the significance of economic development in influencing life satisfaction.\n",
        "\n",
        "Regional Differences: Significant differences in Happiness Report Ladder Scores were identified across countries based on their regional indicators. Countries in North America and ANZ, as well as Western Europe, reported higher average happiness levels, while countries in Sub-Saharan Africa and South Asia reported lower levels of overall life satisfaction.\n",
        "\n",
        "Social Support and Development: The analysis indicated that social support has a positive impact on a country's Human Development Index. Countries with higher levels of social support tended to have higher overall development, underlining the importance of strong social support systems for human well-being.\n",
        "\n",
        "Healthy Life Expectancy and Happiness: A significant difference in Happiness Report Ladder Scores was found among countries based on their levels of Healthy Life Expectancy. Countries with higher Healthy Life Expectancy tended to have higher average happiness levels, suggesting that health plays a vital role in influencing subjective well-being.\n",
        "\n",
        "It is important to mention here that some argue that the HDI depicts an oversimplified view of human development by relying on only a few indicators\n",
        "often derived from data of low quality (Murray, 1993, Srinivasan, 1994)."
      ],
      "metadata": {
        "id": "hGe1B24KzIOx"
      }
    },
    {
      "cell_type": "markdown",
      "source": [
        "The findings of this analysis provide valuable insights for policymakers and governments aiming to improve the well-being of their citizens. It highlights the multidimensional nature of happiness, influenced by economic, social, and health factors, and emphasizes the need for comprehensive strategies to enhance overall life satisfaction.\n",
        "\n",
        "Economic prosperity, as indicated by GDP per capita, is positively associated with happiness levels. However, it is essential to strike a balance between economic development and other factors such as social support, freedom, and perceptions of corruption to foster well-being holistically. Promoting equitable economic growth and investing in social programs can contribute to a more inclusive and content society.\n",
        "\n",
        "Regional variations in happiness levels suggest that cultural, societal, and environmental factors play a role in shaping subjective well-being. Understanding these differences can aid in tailoring policies to address the unique needs and challenges faced by different regions.\n",
        "\n",
        "Furthermore, the positive correlation between social support and overall development highlights the significance of strong social safety nets, community cohesion, and interpersonal relationships in fostering human well-being. Prioritizing and investing in social support systems can lead to better development outcomes and happier societies."
      ],
      "metadata": {
        "id": "kGhK2MNSz_WP"
      }
    },
    {
      "cell_type": "markdown",
      "source": [
        "##Future Analysis"
      ],
      "metadata": {
        "id": "lwhPMdPQNWMW"
      }
    },
    {
      "cell_type": "markdown",
      "source": [
        "Some potential avenues for further investigation include conducting a cross-cultural analysis to examine how cultural norms, values, and societal structures impact happiness and development. Understanding how cultural differences shape well-being can help design targeted interventions and policies tailored to specific cultural contexts.\n",
        "\n",
        "Moreover, investigating the relationship between environmental sustainability and happiness levels. Analyzing how countries' efforts to promote environmental conservation and combat climate change contribute to overall well-being can provide insights into the importance of sustainable development.\n",
        "\n",
        "Furthermore, exploring the role of mental health in shaping happiness and development. Examining the prevalence of mental health issues across countries and their impact on subjective well-being can inform strategies to prioritize mental health care and support systems.\n",
        "\n",
        "Lastly, analyzing the impact of good governance, effective institutions, and transparency on happiness and development. Investigating how citizens' perceptions of governance and trust in public institutions influence overall life satisfaction can provide valuable insights for promoting better governance practices.\n"
      ],
      "metadata": {
        "id": "7jnQRy2COBd9"
      }
    },
    {
      "cell_type": "markdown",
      "source": [
        "##References"
      ],
      "metadata": {
        "id": "hSdRv8xo0BJh"
      }
    },
    {
      "cell_type": "markdown",
      "source": [
        "\n",
        "Anand, P. and Sen, A.K. (1994). Human Development Index: Methodology and Measurement. HDR\n",
        "Occasional Papers\n",
        "\n",
        "Kelley, A. (1991). The Human Development Index: \"Handle with Care\". Population and Development\n",
        "Review\n",
        "\n",
        "Mathurin Ache (2022)[online] kaggle.com\n",
        "Available at https://www.kaggle.com/datasets/mathurinache/world-happiness-report\n",
        "\n",
        "Murray, J. L. (1993). Development data constraints and the Human Development Index. In D. G.\n",
        "Westerndorff and D. Ghai (eds) Monitoring Social Progress in the 1990s\n",
        "\n",
        "Sourav Bannerjee (2020). Human Development Index. [online] kaggle.com\n",
        "Available at https://www.kaggle.com/datasets/sudhirnl7/human-development-index-hdi\n",
        "\n",
        "Srinivasan, T.N. (1994). Data Base for Development Analysis: An overview. Journal of Development\n",
        "\n",
        "\n"
      ],
      "metadata": {
        "id": "aDnMqWq7SgUC"
      }
    }
  ]
}